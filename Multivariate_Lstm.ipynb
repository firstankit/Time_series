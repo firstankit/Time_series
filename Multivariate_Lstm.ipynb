{
 "cells": [
  {
   "cell_type": "code",
   "execution_count": 1,
   "id": "51324951",
   "metadata": {},
   "outputs": [],
   "source": [
    "import pandas as pd"
   ]
  },
  {
   "cell_type": "code",
   "execution_count": 2,
   "id": "4278a99e",
   "metadata": {},
   "outputs": [
    {
     "data": {
      "text/html": [
       "<div>\n",
       "<style scoped>\n",
       "    .dataframe tbody tr th:only-of-type {\n",
       "        vertical-align: middle;\n",
       "    }\n",
       "\n",
       "    .dataframe tbody tr th {\n",
       "        vertical-align: top;\n",
       "    }\n",
       "\n",
       "    .dataframe thead th {\n",
       "        text-align: right;\n",
       "    }\n",
       "</style>\n",
       "<table border=\"1\" class=\"dataframe\">\n",
       "  <thead>\n",
       "    <tr style=\"text-align: right;\">\n",
       "      <th></th>\n",
       "      <th>Open</th>\n",
       "      <th>High</th>\n",
       "      <th>Low</th>\n",
       "      <th>Close</th>\n",
       "      <th>Adj Close</th>\n",
       "      <th>Volume</th>\n",
       "    </tr>\n",
       "    <tr>\n",
       "      <th>Date</th>\n",
       "      <th></th>\n",
       "      <th></th>\n",
       "      <th></th>\n",
       "      <th></th>\n",
       "      <th></th>\n",
       "      <th></th>\n",
       "    </tr>\n",
       "  </thead>\n",
       "  <tbody>\n",
       "    <tr>\n",
       "      <th>2022-03-29</th>\n",
       "      <td>72.615143</td>\n",
       "      <td>74.137390</td>\n",
       "      <td>72.615143</td>\n",
       "      <td>73.887589</td>\n",
       "      <td>73.568665</td>\n",
       "      <td>11009426</td>\n",
       "    </tr>\n",
       "    <tr>\n",
       "      <th>2022-03-30</th>\n",
       "      <td>73.083527</td>\n",
       "      <td>74.270103</td>\n",
       "      <td>72.833725</td>\n",
       "      <td>73.832947</td>\n",
       "      <td>73.514252</td>\n",
       "      <td>7216642</td>\n",
       "    </tr>\n",
       "    <tr>\n",
       "      <th>2022-03-31</th>\n",
       "      <td>73.185013</td>\n",
       "      <td>73.341141</td>\n",
       "      <td>71.405151</td>\n",
       "      <td>71.428574</td>\n",
       "      <td>71.120262</td>\n",
       "      <td>10537122</td>\n",
       "    </tr>\n",
       "    <tr>\n",
       "      <th>2022-04-01</th>\n",
       "      <td>71.896957</td>\n",
       "      <td>72.256050</td>\n",
       "      <td>71.124123</td>\n",
       "      <td>72.201408</td>\n",
       "      <td>71.889755</td>\n",
       "      <td>7226505</td>\n",
       "    </tr>\n",
       "    <tr>\n",
       "      <th>2022-04-04</th>\n",
       "      <td>71.959404</td>\n",
       "      <td>72.068695</td>\n",
       "      <td>70.960190</td>\n",
       "      <td>71.834503</td>\n",
       "      <td>71.524437</td>\n",
       "      <td>6583828</td>\n",
       "    </tr>\n",
       "  </tbody>\n",
       "</table>\n",
       "</div>"
      ],
      "text/plain": [
       "                 Open       High        Low      Close  Adj Close    Volume\n",
       "Date                                                                       \n",
       "2022-03-29  72.615143  74.137390  72.615143  73.887589  73.568665  11009426\n",
       "2022-03-30  73.083527  74.270103  72.833725  73.832947  73.514252   7216642\n",
       "2022-03-31  73.185013  73.341141  71.405151  71.428574  71.120262  10537122\n",
       "2022-04-01  71.896957  72.256050  71.124123  72.201408  71.889755   7226505\n",
       "2022-04-04  71.959404  72.068695  70.960190  71.834503  71.524437   6583828"
      ]
     },
     "execution_count": 2,
     "metadata": {},
     "output_type": "execute_result"
    }
   ],
   "source": [
    "df = pd.read_csv('GE.csv',index_col='Date',parse_dates=True)\n",
    "df.head()"
   ]
  },
  {
   "cell_type": "code",
   "execution_count": 3,
   "id": "610eea8a",
   "metadata": {},
   "outputs": [],
   "source": [
    "cols = list(df)[0:5]"
   ]
  },
  {
   "cell_type": "code",
   "execution_count": 4,
   "id": "a5d43e3e",
   "metadata": {},
   "outputs": [
    {
     "data": {
      "text/plain": [
       "['Open', 'High', 'Low', 'Close', 'Adj Close']"
      ]
     },
     "execution_count": 4,
     "metadata": {},
     "output_type": "execute_result"
    }
   ],
   "source": [
    "cols"
   ]
  },
  {
   "cell_type": "code",
   "execution_count": 5,
   "id": "eddf32b7",
   "metadata": {},
   "outputs": [],
   "source": [
    "df1 = df[cols]"
   ]
  },
  {
   "cell_type": "code",
   "execution_count": 6,
   "id": "4ee5ed59",
   "metadata": {},
   "outputs": [
    {
     "data": {
      "text/html": [
       "<div>\n",
       "<style scoped>\n",
       "    .dataframe tbody tr th:only-of-type {\n",
       "        vertical-align: middle;\n",
       "    }\n",
       "\n",
       "    .dataframe tbody tr th {\n",
       "        vertical-align: top;\n",
       "    }\n",
       "\n",
       "    .dataframe thead th {\n",
       "        text-align: right;\n",
       "    }\n",
       "</style>\n",
       "<table border=\"1\" class=\"dataframe\">\n",
       "  <thead>\n",
       "    <tr style=\"text-align: right;\">\n",
       "      <th></th>\n",
       "      <th>Open</th>\n",
       "      <th>High</th>\n",
       "      <th>Low</th>\n",
       "      <th>Close</th>\n",
       "      <th>Adj Close</th>\n",
       "    </tr>\n",
       "    <tr>\n",
       "      <th>Date</th>\n",
       "      <th></th>\n",
       "      <th></th>\n",
       "      <th></th>\n",
       "      <th></th>\n",
       "      <th></th>\n",
       "    </tr>\n",
       "  </thead>\n",
       "  <tbody>\n",
       "    <tr>\n",
       "      <th>2022-03-29</th>\n",
       "      <td>72.615143</td>\n",
       "      <td>74.137390</td>\n",
       "      <td>72.615143</td>\n",
       "      <td>73.887589</td>\n",
       "      <td>73.568665</td>\n",
       "    </tr>\n",
       "    <tr>\n",
       "      <th>2022-03-30</th>\n",
       "      <td>73.083527</td>\n",
       "      <td>74.270103</td>\n",
       "      <td>72.833725</td>\n",
       "      <td>73.832947</td>\n",
       "      <td>73.514252</td>\n",
       "    </tr>\n",
       "    <tr>\n",
       "      <th>2022-03-31</th>\n",
       "      <td>73.185013</td>\n",
       "      <td>73.341141</td>\n",
       "      <td>71.405151</td>\n",
       "      <td>71.428574</td>\n",
       "      <td>71.120262</td>\n",
       "    </tr>\n",
       "    <tr>\n",
       "      <th>2022-04-01</th>\n",
       "      <td>71.896957</td>\n",
       "      <td>72.256050</td>\n",
       "      <td>71.124123</td>\n",
       "      <td>72.201408</td>\n",
       "      <td>71.889755</td>\n",
       "    </tr>\n",
       "    <tr>\n",
       "      <th>2022-04-04</th>\n",
       "      <td>71.959404</td>\n",
       "      <td>72.068695</td>\n",
       "      <td>70.960190</td>\n",
       "      <td>71.834503</td>\n",
       "      <td>71.524437</td>\n",
       "    </tr>\n",
       "  </tbody>\n",
       "</table>\n",
       "</div>"
      ],
      "text/plain": [
       "                 Open       High        Low      Close  Adj Close\n",
       "Date                                                             \n",
       "2022-03-29  72.615143  74.137390  72.615143  73.887589  73.568665\n",
       "2022-03-30  73.083527  74.270103  72.833725  73.832947  73.514252\n",
       "2022-03-31  73.185013  73.341141  71.405151  71.428574  71.120262\n",
       "2022-04-01  71.896957  72.256050  71.124123  72.201408  71.889755\n",
       "2022-04-04  71.959404  72.068695  70.960190  71.834503  71.524437"
      ]
     },
     "execution_count": 6,
     "metadata": {},
     "output_type": "execute_result"
    }
   ],
   "source": [
    "df1.head()"
   ]
  },
  {
   "cell_type": "code",
   "execution_count": 7,
   "id": "dcf4054d",
   "metadata": {},
   "outputs": [],
   "source": [
    "import numpy as np\n",
    "import matplotlib.pyplot as plt\n",
    "%matplotlib inline"
   ]
  },
  {
   "cell_type": "code",
   "execution_count": 8,
   "id": "7b6e9372",
   "metadata": {},
   "outputs": [
    {
     "data": {
      "text/plain": [
       "[<matplotlib.lines.Line2D at 0x1bb322e0e20>]"
      ]
     },
     "execution_count": 8,
     "metadata": {},
     "output_type": "execute_result"
    },
    {
     "data": {
      "image/png": "[encoded data removed]",
      "text/plain": [
       "<Figure size 432x288 with 1 Axes>"
      ]
     },
     "metadata": {
      "needs_background": "light"
     },
     "output_type": "display_data"
    }
   ],
   "source": [
    "plt.plot(df1.High)"
   ]
  },
  {
   "cell_type": "code",
   "execution_count": 9,
   "id": "8cafc38a",
   "metadata": {},
   "outputs": [
    {
     "data": {
      "text/plain": [
       "[<matplotlib.lines.Line2D at 0x1bb33381550>]"
      ]
     },
     "execution_count": 9,
     "metadata": {},
     "output_type": "execute_result"
    },
    {
     "data": {
      "image/png": "[encoded data removed]",
      "text/plain": [
       "<Figure size 432x288 with 1 Axes>"
      ]
     },
     "metadata": {
      "needs_background": "light"
     },
     "output_type": "display_data"
    }
   ],
   "source": [
    "plt.plot(df1.Low)"
   ]
  },
  {
   "cell_type": "code",
   "execution_count": 10,
   "id": "124051a1",
   "metadata": {},
   "outputs": [
    {
     "data": {
      "text/plain": [
       "[<matplotlib.lines.Line2D at 0x1bb333dee80>]"
      ]
     },
     "execution_count": 10,
     "metadata": {},
     "output_type": "execute_result"
    },
    {
     "data": {
      "image/png": "[encoded data removed]",
      "text/plain": [
       "<Figure size 432x288 with 1 Axes>"
      ]
     },
     "metadata": {
      "needs_background": "light"
     },
     "output_type": "display_data"
    }
   ],
   "source": [
    "plt.plot(df1['Adj Close'])"
   ]
  },
  {
   "cell_type": "code",
   "execution_count": 11,
   "id": "f344f0ae",
   "metadata": {
    "scrolled": true
   },
   "outputs": [
    {
     "data": {
      "text/plain": [
       "[<matplotlib.lines.Line2D at 0x1bb3344a220>]"
      ]
     },
     "execution_count": 11,
     "metadata": {},
     "output_type": "execute_result"
    },
    {
     "data": {
      "image/png": "[encoded data removed]",
      "text/plain": [
       "<Figure size 432x288 with 1 Axes>"
      ]
     },
     "metadata": {
      "needs_background": "light"
     },
     "output_type": "display_data"
    }
   ],
   "source": [
    "plt.plot(df1.Close)"
   ]
  },
  {
   "cell_type": "code",
   "execution_count": 12,
   "id": "1a4fd943",
   "metadata": {
    "scrolled": true
   },
   "outputs": [
    {
     "data": {
      "text/plain": [
       "[<matplotlib.lines.Line2D at 0x1bb3349ac40>]"
      ]
     },
     "execution_count": 12,
     "metadata": {},
     "output_type": "execute_result"
    },
    {
     "data": {
      "image/png": "[encoded data removed]",
      "text/plain": [
       "<Figure size 432x288 with 1 Axes>"
      ]
     },
     "metadata": {
      "needs_background": "light"
     },
     "output_type": "display_data"
    }
   ],
   "source": [
    "plt.plot(df1.Open)"
   ]
  },
  {
   "cell_type": "code",
   "execution_count": 13,
   "id": "962092b2",
   "metadata": {},
   "outputs": [
    {
     "data": {
      "text/plain": [
       "251"
      ]
     },
     "execution_count": 13,
     "metadata": {},
     "output_type": "execute_result"
    }
   ],
   "source": [
    "len(df1)"
   ]
  },
  {
   "cell_type": "code",
   "execution_count": 14,
   "id": "feb7789b",
   "metadata": {},
   "outputs": [
    {
     "data": {
      "text/plain": [
       "(251, 5)"
      ]
     },
     "execution_count": 14,
     "metadata": {},
     "output_type": "execute_result"
    }
   ],
   "source": [
    "df1.shape"
   ]
  },
  {
   "cell_type": "code",
   "execution_count": 15,
   "id": "43ecb22e",
   "metadata": {},
   "outputs": [],
   "source": [
    "train = df1.iloc[:210]\n",
    "test = df1.iloc[210:]"
   ]
  },
  {
   "cell_type": "code",
   "execution_count": 16,
   "id": "8a7f6746",
   "metadata": {},
   "outputs": [],
   "source": [
    "from sklearn.preprocessing import MinMaxScaler\n",
    "scaler = MinMaxScaler()"
   ]
  },
  {
   "cell_type": "code",
   "execution_count": 17,
   "id": "63b4d89b",
   "metadata": {},
   "outputs": [
    {
     "data": {
      "text/plain": [
       "(                 Open       High        Low      Close  Adj Close\n",
       " Date                                                             \n",
       " 2022-03-29  72.615143  74.137390  72.615143  73.887589  73.568665\n",
       " 2022-03-30  73.083527  74.270103  72.833725  73.832947  73.514252\n",
       " 2022-03-31  73.185013  73.341141  71.405151  71.428574  71.120262\n",
       " 2022-04-01  71.896957  72.256050  71.124123  72.201408  71.889755\n",
       " 2022-04-04  71.959404  72.068695  70.960190  71.834503  71.524437,\n",
       "                  Open       High        Low      Close  Adj Close\n",
       " Date                                                             \n",
       " 2023-03-22  92.489998  92.599998  89.550003  89.589996  89.589996\n",
       " 2023-03-23  90.629997  92.949997  90.529999  91.589996  91.589996\n",
       " 2023-03-24  90.570000  92.349998  90.320000  91.370003  91.370003\n",
       " 2023-03-27  92.279999  93.639999  92.110001  93.309998  93.309998\n",
       " 2023-03-28  93.339996  93.739998  92.559998  93.139999  93.139999)"
      ]
     },
     "execution_count": 17,
     "metadata": {},
     "output_type": "execute_result"
    }
   ],
   "source": [
    "df1.head(),df1.tail()"
   ]
  },
  {
   "cell_type": "code",
   "execution_count": 18,
   "id": "27720990",
   "metadata": {},
   "outputs": [],
   "source": [
    "scaler.fit(train)\n",
    "scaled_train = scaler.transform(train)\n",
    "scaled_test = scaler.transform(test)"
   ]
  },
  {
   "cell_type": "code",
   "execution_count": 19,
   "id": "2aee1e76",
   "metadata": {},
   "outputs": [
    {
     "data": {
      "text/plain": [
       "array([[0.73819816, 0.72817428, 0.7571579 , 0.73713477, 0.73087578],\n",
       "       [0.75203073, 0.73183573, 0.76356487, 0.73559732, 0.72934787],\n",
       "       [0.75502787, 0.7062064 , 0.72169115, 0.66794606, 0.66212507],\n",
       "       [0.7169883 , 0.67626959, 0.71345378, 0.68969111, 0.6837323 ],\n",
       "       [0.71883252, 0.67110061, 0.70864865, 0.67936759, 0.67347423],\n",
       "       [0.70684438, 0.67153147, 0.68599565, 0.63719551, 0.63156918],\n",
       "       [0.65405006, 0.62479556, 0.63817274, 0.63302219, 0.62742227],\n",
       "       [0.66442449, 0.62285717, 0.62146896, 0.62313808, 0.6176006 ],\n",
       "       [0.65681649, 0.62694929, 0.65647813, 0.62928807, 0.62371178],\n",
       "       [0.65796921, 0.65537857, 0.66585961, 0.62775062, 0.62218432]])"
      ]
     },
     "execution_count": 19,
     "metadata": {},
     "output_type": "execute_result"
    }
   ],
   "source": [
    "scaled_train[:10]"
   ]
  },
  {
   "cell_type": "code",
   "execution_count": 20,
   "id": "3c795d7d",
   "metadata": {},
   "outputs": [],
   "source": [
    "\n",
    "from keras.preprocessing.sequence import TimeseriesGenerator"
   ]
  },
  {
   "cell_type": "code",
   "execution_count": 21,
   "id": "d7969e37",
   "metadata": {},
   "outputs": [],
   "source": [
    "# define generator\n",
    "n_input = 3\n",
    "n_features = 5\n",
    "generator = TimeseriesGenerator(scaled_train, scaled_train, length=n_input, batch_size=1)\n",
    "     "
   ]
  },
  {
   "cell_type": "code",
   "execution_count": 22,
   "id": "670e62c2",
   "metadata": {},
   "outputs": [
    {
     "name": "stdout",
     "output_type": "stream",
     "text": [
      "Given the Array: \n",
      "[0.73819816 0.72817428 0.7571579  0.73713477 0.73087578 0.75203073\n",
      " 0.73183573 0.76356487 0.73559732 0.72934787 0.75502787 0.7062064\n",
      " 0.72169115 0.66794606 0.66212507]\n",
      "Predict this y: \n",
      " [[0.7169883  0.67626959 0.71345378 0.68969111 0.6837323 ]]\n"
     ]
    }
   ],
   "source": [
    "X,y = generator[0]\n",
    "print(f'Given the Array: \\n{X.flatten()}')\n",
    "print(f'Predict this y: \\n {y}')"
   ]
  },
  {
   "cell_type": "code",
   "execution_count": 23,
   "id": "c435d6a0",
   "metadata": {},
   "outputs": [],
   "source": [
    "# We do the same thing, but now instead for 12 days\n",
    "n_input = 12\n",
    "generator = TimeseriesGenerator(scaled_train, scaled_train, length=n_input, batch_size=1)"
   ]
  },
  {
   "cell_type": "code",
   "execution_count": 24,
   "id": "2420b443",
   "metadata": {},
   "outputs": [],
   "source": [
    "\n",
    "from keras.models import Sequential\n",
    "from keras.layers import Dense\n",
    "from keras.layers import LSTM\n",
    "     "
   ]
  },
  {
   "cell_type": "code",
   "execution_count": 25,
   "id": "cc8a52cb",
   "metadata": {},
   "outputs": [],
   "source": [
    "model=Sequential()\n",
    "model.add(LSTM(50,return_sequences=True,input_shape=(n_input, n_features)))\n",
    "model.add(LSTM(50,return_sequences=True))\n",
    "model.add(LSTM(50))\n",
    "model.add(Dense(5))\n",
    "model.compile(loss='mean_squared_error',optimizer='adam')\n"
   ]
  },
  {
   "cell_type": "code",
   "execution_count": 26,
   "id": "cc0cc1f4",
   "metadata": {},
   "outputs": [
    {
     "name": "stdout",
     "output_type": "stream",
     "text": [
      "Model: \"sequential\"\n",
      "_________________________________________________________________\n",
      " Layer (type)                Output Shape              Param #   \n",
      "=================================================================\n",
      " lstm (LSTM)                 (None, 12, 50)            11200     \n",
      "                                                                 \n",
      " lstm_1 (LSTM)               (None, 12, 50)            20200     \n",
      "                                                                 \n",
      " lstm_2 (LSTM)               (None, 50)                20200     \n",
      "                                                                 \n",
      " dense (Dense)               (None, 5)                 255       \n",
      "                                                                 \n",
      "=================================================================\n",
      "Total params: 51,855\n",
      "Trainable params: 51,855\n",
      "Non-trainable params: 0\n",
      "_________________________________________________________________\n"
     ]
    }
   ],
   "source": [
    "\n",
    "model.summary()"
   ]
  },
  {
   "cell_type": "code",
   "execution_count": 27,
   "id": "aa760241",
   "metadata": {},
   "outputs": [
    {
     "name": "stdout",
     "output_type": "stream",
     "text": [
      "Epoch 1/30\n",
      "198/198 [==============================] - 11s 13ms/step - loss: 0.0267\n",
      "Epoch 2/30\n",
      "198/198 [==============================] - 3s 13ms/step - loss: 0.0153\n",
      "Epoch 3/30\n",
      "198/198 [==============================] - 2s 12ms/step - loss: 0.0132\n",
      "Epoch 4/30\n",
      "198/198 [==============================] - 2s 13ms/step - loss: 0.0079\n",
      "Epoch 5/30\n",
      "198/198 [==============================] - 3s 13ms/step - loss: 0.0049\n",
      "Epoch 6/30\n",
      "198/198 [==============================] - 2s 12ms/step - loss: 0.0040\n",
      "Epoch 7/30\n",
      "198/198 [==============================] - 2s 12ms/step - loss: 0.0032\n",
      "Epoch 8/30\n",
      "198/198 [==============================] - 2s 12ms/step - loss: 0.0025\n",
      "Epoch 9/30\n",
      "198/198 [==============================] - 3s 13ms/step - loss: 0.0023\n",
      "Epoch 10/30\n",
      "198/198 [==============================] - 3s 14ms/step - loss: 0.0023\n",
      "Epoch 11/30\n",
      "198/198 [==============================] - 4s 22ms/step - loss: 0.0018\n",
      "Epoch 12/30\n",
      "198/198 [==============================] - 2s 13ms/step - loss: 0.0019\n",
      "Epoch 13/30\n",
      "198/198 [==============================] - 2s 12ms/step - loss: 0.0019\n",
      "Epoch 14/30\n",
      "198/198 [==============================] - 2s 12ms/step - loss: 0.0025\n",
      "Epoch 15/30\n",
      "198/198 [==============================] - 2s 12ms/step - loss: 0.0017\n",
      "Epoch 16/30\n",
      "198/198 [==============================] - 3s 13ms/step - loss: 0.0015\n",
      "Epoch 17/30\n",
      "198/198 [==============================] - 3s 13ms/step - loss: 0.0016\n",
      "Epoch 18/30\n",
      "198/198 [==============================] - 3s 13ms/step - loss: 0.0020\n",
      "Epoch 19/30\n",
      "198/198 [==============================] - 3s 13ms/step - loss: 0.0018\n",
      "Epoch 20/30\n",
      "198/198 [==============================] - 2s 12ms/step - loss: 0.0015\n",
      "Epoch 21/30\n",
      "198/198 [==============================] - 2s 12ms/step - loss: 0.0014\n",
      "Epoch 22/30\n",
      "198/198 [==============================] - 2s 12ms/step - loss: 0.0022\n",
      "Epoch 23/30\n",
      "198/198 [==============================] - 2s 12ms/step - loss: 0.0013\n",
      "Epoch 24/30\n",
      "198/198 [==============================] - 2s 12ms/step - loss: 0.0018\n",
      "Epoch 25/30\n",
      "198/198 [==============================] - 2s 12ms/step - loss: 0.0015\n",
      "Epoch 26/30\n",
      "198/198 [==============================] - 2s 12ms/step - loss: 0.0017\n",
      "Epoch 27/30\n",
      "198/198 [==============================] - 2s 12ms/step - loss: 0.0018\n",
      "Epoch 28/30\n",
      "198/198 [==============================] - 3s 17ms/step - loss: 0.0014\n",
      "Epoch 29/30\n",
      "198/198 [==============================] - 5s 27ms/step - loss: 0.0012\n",
      "Epoch 30/30\n",
      "198/198 [==============================] - 5s 28ms/step - loss: 0.0014\n"
     ]
    },
    {
     "data": {
      "text/plain": [
       "<keras.callbacks.History at 0x1bb3f0d77f0>"
      ]
     },
     "execution_count": 27,
     "metadata": {},
     "output_type": "execute_result"
    }
   ],
   "source": [
    "# fit model\n",
    "model.fit(generator,epochs=30)"
   ]
  },
  {
   "cell_type": "code",
   "execution_count": 28,
   "id": "44905baf",
   "metadata": {},
   "outputs": [
    {
     "data": {
      "text/plain": [
       "[<matplotlib.lines.Line2D at 0x1bb46510bb0>]"
      ]
     },
     "execution_count": 28,
     "metadata": {},
     "output_type": "execute_result"
    },
    {
     "data": {
      "image/png": "[encoded data removed]",
      "text/plain": [
       "<Figure size 432x288 with 1 Axes>"
      ]
     },
     "metadata": {
      "needs_background": "light"
     },
     "output_type": "display_data"
    }
   ],
   "source": [
    "loss_per_epoch = model.history.history['loss']\n",
    "plt.plot(range(len(loss_per_epoch)),loss_per_epoch)"
   ]
  },
  {
   "cell_type": "code",
   "execution_count": 29,
   "id": "2f69e7b8",
   "metadata": {},
   "outputs": [],
   "source": [
    "last_train_batch = scaled_train[-n_input:]"
   ]
  },
  {
   "cell_type": "code",
   "execution_count": 30,
   "id": "44f91218",
   "metadata": {},
   "outputs": [],
   "source": [
    "last_train_batch = last_train_batch.reshape((1, n_input, n_features))"
   ]
  },
  {
   "cell_type": "code",
   "execution_count": 31,
   "id": "ea63819a",
   "metadata": {},
   "outputs": [
    {
     "name": "stdout",
     "output_type": "stream",
     "text": [
      "1/1 [==============================] - 2s 2s/step\n"
     ]
    },
    {
     "data": {
      "text/plain": [
       "array([[0.99882245, 0.9760431 , 0.9905135 , 0.97544837, 0.9714358 ]],\n",
       "      dtype=float32)"
      ]
     },
     "execution_count": 31,
     "metadata": {},
     "output_type": "execute_result"
    }
   ],
   "source": [
    "model.predict(last_train_batch)\n",
    "     "
   ]
  },
  {
   "cell_type": "code",
   "execution_count": 32,
   "id": "c2d23202",
   "metadata": {},
   "outputs": [
    {
     "data": {
      "text/plain": [
       "array([1.02746529, 0.96578943, 0.99325823, 0.93247176, 0.93267072])"
      ]
     },
     "execution_count": 32,
     "metadata": {},
     "output_type": "execute_result"
    }
   ],
   "source": [
    "scaled_test[0]"
   ]
  },
  {
   "cell_type": "code",
   "execution_count": 33,
   "id": "acfb601c",
   "metadata": {},
   "outputs": [
    {
     "name": "stdout",
     "output_type": "stream",
     "text": [
      "1/1 [==============================] - 0s 31ms/step\n",
      "1/1 [==============================] - 0s 15ms/step\n",
      "1/1 [==============================] - 0s 13ms/step\n",
      "1/1 [==============================] - 0s 22ms/step\n",
      "1/1 [==============================] - 0s 15ms/step\n",
      "1/1 [==============================] - 0s 15ms/step\n",
      "1/1 [==============================] - 0s 12ms/step\n",
      "1/1 [==============================] - 0s 23ms/step\n",
      "1/1 [==============================] - 0s 12ms/step\n",
      "1/1 [==============================] - 0s 9ms/step\n",
      "1/1 [==============================] - 0s 21ms/step\n",
      "1/1 [==============================] - 0s 17ms/step\n",
      "1/1 [==============================] - 0s 10ms/step\n",
      "1/1 [==============================] - 0s 24ms/step\n",
      "1/1 [==============================] - 0s 14ms/step\n",
      "1/1 [==============================] - 0s 25ms/step\n",
      "1/1 [==============================] - 0s 16ms/step\n",
      "1/1 [==============================] - 0s 11ms/step\n",
      "1/1 [==============================] - 0s 22ms/step\n",
      "1/1 [==============================] - 0s 16ms/step\n",
      "1/1 [==============================] - 0s 12ms/step\n",
      "1/1 [==============================] - 0s 13ms/step\n",
      "1/1 [==============================] - 0s 22ms/step\n",
      "1/1 [==============================] - 0s 16ms/step\n",
      "1/1 [==============================] - 0s 21ms/step\n",
      "1/1 [==============================] - 0s 14ms/step\n",
      "1/1 [==============================] - 0s 12ms/step\n",
      "1/1 [==============================] - 0s 19ms/step\n",
      "1/1 [==============================] - 0s 15ms/step\n",
      "1/1 [==============================] - 0s 22ms/step\n",
      "1/1 [==============================] - 0s 19ms/step\n",
      "1/1 [==============================] - 0s 22ms/step\n",
      "1/1 [==============================] - 0s 17ms/step\n",
      "1/1 [==============================] - 0s 13ms/step\n",
      "1/1 [==============================] - 0s 37ms/step\n",
      "1/1 [==============================] - 0s 22ms/step\n",
      "1/1 [==============================] - 0s 20ms/step\n",
      "1/1 [==============================] - 0s 19ms/step\n",
      "1/1 [==============================] - 0s 12ms/step\n",
      "1/1 [==============================] - 0s 18ms/step\n",
      "1/1 [==============================] - 0s 22ms/step\n"
     ]
    }
   ],
   "source": [
    "\n",
    "test_predictions = []\n",
    "\n",
    "first_eval_batch = scaled_train[-n_input:]\n",
    "current_batch = first_eval_batch.reshape((1, n_input, n_features))\n",
    "\n",
    "for i in range(len(test)):\n",
    "    \n",
    "    # get the prediction value for the first batch\n",
    "    current_pred = model.predict(current_batch)[0]\n",
    "    \n",
    "    # append the prediction into the array\n",
    "    test_predictions.append(current_pred) \n",
    "    \n",
    "    # use the prediction to update the batch and remove the first value\n",
    "    current_batch = np.append(current_batch[:,1:,:],[[current_pred]],axis=1)\n"
   ]
  },
  {
   "cell_type": "code",
   "execution_count": 34,
   "id": "00f0c987",
   "metadata": {},
   "outputs": [
    {
     "data": {
      "text/plain": [
       "[array([0.99882245, 0.9760431 , 0.9905135 , 0.97544837, 0.9714358 ],\n",
       "       dtype=float32),\n",
       " array([0.9621172 , 0.93624073, 0.9551889 , 0.9372723 , 0.92844754],\n",
       "       dtype=float32),\n",
       " array([0.9233959, 0.8996667, 0.9142591, 0.8964504, 0.8871499],\n",
       "       dtype=float32),\n",
       " array([0.8932524 , 0.8716203 , 0.8817673 , 0.86493886, 0.8562929 ],\n",
       "       dtype=float32),\n",
       " array([0.8700794 , 0.84972215, 0.8568565 , 0.8409666 , 0.83285666],\n",
       "       dtype=float32),\n",
       " array([0.85030216, 0.8306279 , 0.83592415, 0.8207128 , 0.81281316],\n",
       "       dtype=float32),\n",
       " array([0.83143187, 0.81214744, 0.81623805, 0.8016032 , 0.79359627],\n",
       "       dtype=float32),\n",
       " array([0.8124872 , 0.7935072 , 0.79676783, 0.7825415 , 0.7744009 ],\n",
       "       dtype=float32),\n",
       " array([0.79341495, 0.77466726, 0.7773542 , 0.76341605, 0.7552611 ],\n",
       "       dtype=float32),\n",
       " array([0.7744714 , 0.75598264, 0.7582316 , 0.74448717, 0.73643   ],\n",
       "       dtype=float32),\n",
       " array([0.75592923, 0.7377335 , 0.73966384, 0.7260699 , 0.7180977 ],\n",
       "       dtype=float32),\n",
       " array([0.737901  , 0.7200568 , 0.7217906 , 0.70824146, 0.7003845 ],\n",
       "       dtype=float32),\n",
       " array([0.7203482, 0.7027211, 0.704456 , 0.690845 , 0.6832632],\n",
       "       dtype=float32),\n",
       " array([0.70317656, 0.6858502 , 0.6875416 , 0.6738478 , 0.6665442 ],\n",
       "       dtype=float32),\n",
       " array([0.68630105, 0.6693353 , 0.67090213, 0.6571709 , 0.6501276 ],\n",
       "       dtype=float32),\n",
       " array([0.66965175, 0.65310484, 0.6544783 , 0.640756  , 0.63394934],\n",
       "       dtype=float32),\n",
       " array([0.6531911 , 0.63711166, 0.6382507 , 0.6245643 , 0.61798185],\n",
       "       dtype=float32),\n",
       " array([0.6369026 , 0.6213326 , 0.6222158 , 0.6085762 , 0.60221505],\n",
       "       dtype=float32),\n",
       " array([0.6207799 , 0.6057566 , 0.6063713 , 0.5927825 , 0.58664334],\n",
       "       dtype=float32),\n",
       " array([0.60481876, 0.5903773 , 0.59071296, 0.57717705, 0.57126147],\n",
       "       dtype=float32),\n",
       " array([0.58901554, 0.57518923, 0.57523626, 0.5617558 , 0.5560636 ],\n",
       "       dtype=float32),\n",
       " array([0.5733683 , 0.56018895, 0.5599383 , 0.546516  , 0.5410464 ],\n",
       "       dtype=float32),\n",
       " array([0.557878  , 0.5453759 , 0.5448202 , 0.5314586 , 0.52621007],\n",
       "       dtype=float32),\n",
       " array([0.5425503 , 0.53075355, 0.529888  , 0.51658857, 0.5115594 ],\n",
       "       dtype=float32),\n",
       " array([0.5273951 , 0.5163292 , 0.515152  , 0.5019149 , 0.49710363],\n",
       "       dtype=float32),\n",
       " array([0.5124259 , 0.50211424, 0.5006259 , 0.4874503 , 0.48285562],\n",
       "       dtype=float32),\n",
       " array([0.4976597 , 0.48812264, 0.48632628, 0.47321025, 0.46883106],\n",
       "       dtype=float32),\n",
       " array([0.48311573, 0.47437102, 0.47227135, 0.45921266, 0.45504755],\n",
       "       dtype=float32),\n",
       " array([0.46881476, 0.46087736, 0.458481  , 0.44547707, 0.4415244 ],\n",
       "       dtype=float32),\n",
       " array([0.45477912, 0.4476605 , 0.4449757 , 0.43202364, 0.42828184],\n",
       "       dtype=float32),\n",
       " array([0.44103163, 0.43474036, 0.4317762 , 0.41887367, 0.41534048],\n",
       "       dtype=float32),\n",
       " array([0.42759565, 0.4221369 , 0.41890365, 0.406048  , 0.40272152],\n",
       "       dtype=float32),\n",
       " array([0.41449398, 0.40986955, 0.4063781 , 0.39356768, 0.3904451 ],\n",
       "       dtype=float32),\n",
       " array([0.401749  , 0.39795732, 0.39421886, 0.38145226, 0.37853116],\n",
       "       dtype=float32),\n",
       " array([0.3893817 , 0.38641822, 0.38244414, 0.36972067, 0.36699784],\n",
       "       dtype=float32),\n",
       " array([0.37741154, 0.37526852, 0.37107027, 0.35838994, 0.35586202],\n",
       "       dtype=float32),\n",
       " array([0.36585638, 0.36452293, 0.36011162, 0.3474752 , 0.3451386 ],\n",
       "       dtype=float32),\n",
       " array([0.3547318 , 0.3541944 , 0.34958047, 0.33698952, 0.33484024],\n",
       "       dtype=float32),\n",
       " array([0.3440507 , 0.34429318, 0.33948675, 0.32694355, 0.3249774 ],\n",
       "       dtype=float32),\n",
       " array([0.333824  , 0.33482772, 0.32983822, 0.3173456 , 0.3155582 ],\n",
       "       dtype=float32),\n",
       " array([0.32405975, 0.325804  , 0.32064006, 0.30820158, 0.30658808],\n",
       "       dtype=float32)]"
      ]
     },
     "execution_count": 34,
     "metadata": {},
     "output_type": "execute_result"
    }
   ],
   "source": [
    "test_predictions"
   ]
  },
  {
   "cell_type": "code",
   "execution_count": 35,
   "id": "fa56740a",
   "metadata": {},
   "outputs": [],
   "source": [
    "true_predictions = scaler.inverse_transform(test_predictions)"
   ]
  },
  {
   "cell_type": "code",
   "execution_count": 36,
   "id": "b5f10eaf",
   "metadata": {},
   "outputs": [
    {
     "data": {
      "text/plain": [
       "array([[81.44013006, 83.12165524, 80.57635843, 82.35742091, 82.13567319],\n",
       "       [80.19725509, 81.67897654, 79.37121484, 81.00061706, 80.60474286],\n",
       "       [78.88611415, 80.35331336, 77.97484423, 79.54977785, 79.13401829],\n",
       "       [77.8654265 , 79.33674114, 76.86634614, 78.42983551, 78.03511622],\n",
       "       [77.08076748, 78.54301973, 76.01648514, 77.57784417, 77.2004865 ],\n",
       "       [76.41109132, 77.85092939, 75.3023512 , 76.85801076, 76.48668222],\n",
       "       [75.77212516, 77.18108504, 74.63073543, 76.17884198, 75.80231535],\n",
       "       [75.1306402 , 76.50545073, 73.96648495, 75.50137638, 75.11871478],\n",
       "       [74.48483614, 75.8225768 , 73.30416424, 74.82164411, 74.43709467],\n",
       "       [73.84338952, 75.14533296, 72.65177305, 74.14889829, 73.76646583],\n",
       "       [73.21553394, 74.48387325, 72.01831158, 73.49433674, 73.11360176],\n",
       "       [72.60507988, 73.84316233, 71.4085443 , 72.86070065, 72.48278603],\n",
       "       [72.01072556, 73.21481341, 70.81715159, 72.24241865, 71.87304857],\n",
       "       [71.42927808, 72.60330938, 70.240097  , 71.63832564, 71.27763925],\n",
       "       [70.85785737, 72.00470962, 69.67242084, 71.04561686, 70.69299832],\n",
       "       [70.29409599, 71.41641944, 69.11210184, 70.46222052, 70.11684602],\n",
       "       [69.73672244, 70.83672995, 68.55847708, 69.88675544, 69.54819953],\n",
       "       [69.18517765, 70.26480073, 68.01142657, 69.31852678, 68.98670012],\n",
       "       [68.63924769, 69.70023211, 67.47087103, 68.75720831, 68.43214828],\n",
       "       [68.09878926, 69.14279291, 66.93666809, 68.20257972, 67.88435718],\n",
       "       [67.56367722, 68.59228654, 66.40866118, 67.65449696, 67.34311882],\n",
       "       [67.033847  , 68.04858554, 65.8867527 , 67.1128647 , 66.80831433],\n",
       "       [66.50933089, 67.51167045, 65.37097925, 66.57771471, 66.27995218],\n",
       "       [65.99032061, 66.98166876, 64.86154824, 66.04922283, 65.75820221],\n",
       "       [65.47715121, 66.45884401, 64.35881147, 65.52771104, 65.24339129],\n",
       "       [64.97027881, 65.94360671, 63.86323664, 65.01362845, 64.73598007],\n",
       "       [64.47028165, 65.43646671, 63.37538702, 64.50752689, 64.23652679],\n",
       "       [63.9778086 , 64.93802462, 62.89588588, 64.01004295, 63.74565766],\n",
       "       [63.49356404, 64.44893287, 62.42541138, 63.5218704 , 63.26406042],\n",
       "       [63.0183038 , 63.96987418, 61.96466102, 63.04372631, 62.79245679],\n",
       "       [62.5528009 , 63.50157012, 61.51434346, 62.57636694, 62.3315791 ],\n",
       "       [62.09784547, 63.04474444, 61.07518058, 62.12053374, 61.88218302],\n",
       "       [61.65421052, 62.60010144, 60.64785565, 61.6769745 , 61.44498601],\n",
       "       [61.22265391, 62.1683303 , 60.23302852, 61.24638404, 61.02069707],\n",
       "       [60.80388506, 61.75008347, 59.83131941, 60.82943496, 60.6099636 ],\n",
       "       [60.39856394, 61.34595075, 59.4432855 , 60.42673312, 60.21338632],\n",
       "       [60.00729503, 60.95646576, 59.06941787, 60.03881552, 59.83149592],\n",
       "       [59.6306061 , 60.58209732, 58.7101344 , 59.66614717, 59.46474239],\n",
       "       [59.26893411, 60.22321702, 58.36577469, 59.30910618, 59.11349933],\n",
       "       [58.9226484 , 59.88013165, 58.03660309, 58.96798807, 58.77805542],\n",
       "       [58.59202144, 59.55305725, 57.72279651, 58.64300363, 58.4586049 ]])"
      ]
     },
     "execution_count": 36,
     "metadata": {},
     "output_type": "execute_result"
    }
   ],
   "source": [
    "true_predictions"
   ]
  },
  {
   "cell_type": "code",
   "execution_count": 37,
   "id": "41306d35",
   "metadata": {},
   "outputs": [],
   "source": [
    "p56 = pd.DataFrame(true_predictions)"
   ]
  },
  {
   "cell_type": "code",
   "execution_count": 38,
   "id": "c7558fe1",
   "metadata": {},
   "outputs": [
    {
     "data": {
      "text/html": [
       "<div>\n",
       "<style scoped>\n",
       "    .dataframe tbody tr th:only-of-type {\n",
       "        vertical-align: middle;\n",
       "    }\n",
       "\n",
       "    .dataframe tbody tr th {\n",
       "        vertical-align: top;\n",
       "    }\n",
       "\n",
       "    .dataframe thead th {\n",
       "        text-align: right;\n",
       "    }\n",
       "</style>\n",
       "<table border=\"1\" class=\"dataframe\">\n",
       "  <thead>\n",
       "    <tr style=\"text-align: right;\">\n",
       "      <th></th>\n",
       "      <th>0</th>\n",
       "      <th>1</th>\n",
       "      <th>2</th>\n",
       "      <th>3</th>\n",
       "      <th>4</th>\n",
       "    </tr>\n",
       "  </thead>\n",
       "  <tbody>\n",
       "    <tr>\n",
       "      <th>0</th>\n",
       "      <td>81.440130</td>\n",
       "      <td>83.121655</td>\n",
       "      <td>80.576358</td>\n",
       "      <td>82.357421</td>\n",
       "      <td>82.135673</td>\n",
       "    </tr>\n",
       "    <tr>\n",
       "      <th>1</th>\n",
       "      <td>80.197255</td>\n",
       "      <td>81.678977</td>\n",
       "      <td>79.371215</td>\n",
       "      <td>81.000617</td>\n",
       "      <td>80.604743</td>\n",
       "    </tr>\n",
       "    <tr>\n",
       "      <th>2</th>\n",
       "      <td>78.886114</td>\n",
       "      <td>80.353313</td>\n",
       "      <td>77.974844</td>\n",
       "      <td>79.549778</td>\n",
       "      <td>79.134018</td>\n",
       "    </tr>\n",
       "    <tr>\n",
       "      <th>3</th>\n",
       "      <td>77.865427</td>\n",
       "      <td>79.336741</td>\n",
       "      <td>76.866346</td>\n",
       "      <td>78.429836</td>\n",
       "      <td>78.035116</td>\n",
       "    </tr>\n",
       "    <tr>\n",
       "      <th>4</th>\n",
       "      <td>77.080767</td>\n",
       "      <td>78.543020</td>\n",
       "      <td>76.016485</td>\n",
       "      <td>77.577844</td>\n",
       "      <td>77.200487</td>\n",
       "    </tr>\n",
       "  </tbody>\n",
       "</table>\n",
       "</div>"
      ],
      "text/plain": [
       "           0          1          2          3          4\n",
       "0  81.440130  83.121655  80.576358  82.357421  82.135673\n",
       "1  80.197255  81.678977  79.371215  81.000617  80.604743\n",
       "2  78.886114  80.353313  77.974844  79.549778  79.134018\n",
       "3  77.865427  79.336741  76.866346  78.429836  78.035116\n",
       "4  77.080767  78.543020  76.016485  77.577844  77.200487"
      ]
     },
     "execution_count": 38,
     "metadata": {},
     "output_type": "execute_result"
    }
   ],
   "source": [
    "p56.head()"
   ]
  },
  {
   "cell_type": "code",
   "execution_count": 39,
   "id": "3db7b0b8",
   "metadata": {},
   "outputs": [],
   "source": [
    "test.reset_index(inplace=True)"
   ]
  },
  {
   "cell_type": "code",
   "execution_count": 40,
   "id": "6a5a9ed1",
   "metadata": {},
   "outputs": [
    {
     "data": {
      "text/html": [
       "<div>\n",
       "<style scoped>\n",
       "    .dataframe tbody tr th:only-of-type {\n",
       "        vertical-align: middle;\n",
       "    }\n",
       "\n",
       "    .dataframe tbody tr th {\n",
       "        vertical-align: top;\n",
       "    }\n",
       "\n",
       "    .dataframe thead th {\n",
       "        text-align: right;\n",
       "    }\n",
       "</style>\n",
       "<table border=\"1\" class=\"dataframe\">\n",
       "  <thead>\n",
       "    <tr style=\"text-align: right;\">\n",
       "      <th></th>\n",
       "      <th>Date</th>\n",
       "      <th>Open</th>\n",
       "      <th>High</th>\n",
       "      <th>Low</th>\n",
       "      <th>Close</th>\n",
       "      <th>Adj Close</th>\n",
       "    </tr>\n",
       "  </thead>\n",
       "  <tbody>\n",
       "    <tr>\n",
       "      <th>0</th>\n",
       "      <td>2023-01-30</td>\n",
       "      <td>82.410004</td>\n",
       "      <td>82.750000</td>\n",
       "      <td>80.669998</td>\n",
       "      <td>80.830002</td>\n",
       "      <td>80.755142</td>\n",
       "    </tr>\n",
       "    <tr>\n",
       "      <th>1</th>\n",
       "      <td>2023-01-31</td>\n",
       "      <td>80.449997</td>\n",
       "      <td>80.910004</td>\n",
       "      <td>79.470001</td>\n",
       "      <td>80.480003</td>\n",
       "      <td>80.405464</td>\n",
       "    </tr>\n",
       "    <tr>\n",
       "      <th>2</th>\n",
       "      <td>2023-02-01</td>\n",
       "      <td>80.269997</td>\n",
       "      <td>82.470001</td>\n",
       "      <td>80.010002</td>\n",
       "      <td>82.320000</td>\n",
       "      <td>82.243759</td>\n",
       "    </tr>\n",
       "    <tr>\n",
       "      <th>3</th>\n",
       "      <td>2023-02-02</td>\n",
       "      <td>82.190002</td>\n",
       "      <td>84.029999</td>\n",
       "      <td>81.900002</td>\n",
       "      <td>83.940002</td>\n",
       "      <td>83.862259</td>\n",
       "    </tr>\n",
       "    <tr>\n",
       "      <th>4</th>\n",
       "      <td>2023-02-03</td>\n",
       "      <td>83.510002</td>\n",
       "      <td>83.690002</td>\n",
       "      <td>81.820000</td>\n",
       "      <td>81.959999</td>\n",
       "      <td>81.884094</td>\n",
       "    </tr>\n",
       "  </tbody>\n",
       "</table>\n",
       "</div>"
      ],
      "text/plain": [
       "        Date       Open       High        Low      Close  Adj Close\n",
       "0 2023-01-30  82.410004  82.750000  80.669998  80.830002  80.755142\n",
       "1 2023-01-31  80.449997  80.910004  79.470001  80.480003  80.405464\n",
       "2 2023-02-01  80.269997  82.470001  80.010002  82.320000  82.243759\n",
       "3 2023-02-02  82.190002  84.029999  81.900002  83.940002  83.862259\n",
       "4 2023-02-03  83.510002  83.690002  81.820000  81.959999  81.884094"
      ]
     },
     "execution_count": 40,
     "metadata": {},
     "output_type": "execute_result"
    }
   ],
   "source": [
    "test.head()"
   ]
  },
  {
   "cell_type": "code",
   "execution_count": 62,
   "id": "5fa85d24",
   "metadata": {},
   "outputs": [],
   "source": [
    "#test =test.drop(['level_0','index'],axis=1)"
   ]
  },
  {
   "cell_type": "code",
   "execution_count": 42,
   "id": "12da1fdd",
   "metadata": {},
   "outputs": [
    {
     "data": {
      "text/html": [
       "<div>\n",
       "<style scoped>\n",
       "    .dataframe tbody tr th:only-of-type {\n",
       "        vertical-align: middle;\n",
       "    }\n",
       "\n",
       "    .dataframe tbody tr th {\n",
       "        vertical-align: top;\n",
       "    }\n",
       "\n",
       "    .dataframe thead th {\n",
       "        text-align: right;\n",
       "    }\n",
       "</style>\n",
       "<table border=\"1\" class=\"dataframe\">\n",
       "  <thead>\n",
       "    <tr style=\"text-align: right;\">\n",
       "      <th></th>\n",
       "      <th>Date</th>\n",
       "      <th>Open</th>\n",
       "      <th>High</th>\n",
       "      <th>Low</th>\n",
       "      <th>Close</th>\n",
       "      <th>Adj Close</th>\n",
       "    </tr>\n",
       "  </thead>\n",
       "  <tbody>\n",
       "    <tr>\n",
       "      <th>0</th>\n",
       "      <td>2023-01-30</td>\n",
       "      <td>82.410004</td>\n",
       "      <td>82.750000</td>\n",
       "      <td>80.669998</td>\n",
       "      <td>80.830002</td>\n",
       "      <td>80.755142</td>\n",
       "    </tr>\n",
       "    <tr>\n",
       "      <th>1</th>\n",
       "      <td>2023-01-31</td>\n",
       "      <td>80.449997</td>\n",
       "      <td>80.910004</td>\n",
       "      <td>79.470001</td>\n",
       "      <td>80.480003</td>\n",
       "      <td>80.405464</td>\n",
       "    </tr>\n",
       "    <tr>\n",
       "      <th>2</th>\n",
       "      <td>2023-02-01</td>\n",
       "      <td>80.269997</td>\n",
       "      <td>82.470001</td>\n",
       "      <td>80.010002</td>\n",
       "      <td>82.320000</td>\n",
       "      <td>82.243759</td>\n",
       "    </tr>\n",
       "    <tr>\n",
       "      <th>3</th>\n",
       "      <td>2023-02-02</td>\n",
       "      <td>82.190002</td>\n",
       "      <td>84.029999</td>\n",
       "      <td>81.900002</td>\n",
       "      <td>83.940002</td>\n",
       "      <td>83.862259</td>\n",
       "    </tr>\n",
       "    <tr>\n",
       "      <th>4</th>\n",
       "      <td>2023-02-03</td>\n",
       "      <td>83.510002</td>\n",
       "      <td>83.690002</td>\n",
       "      <td>81.820000</td>\n",
       "      <td>81.959999</td>\n",
       "      <td>81.884094</td>\n",
       "    </tr>\n",
       "  </tbody>\n",
       "</table>\n",
       "</div>"
      ],
      "text/plain": [
       "        Date       Open       High        Low      Close  Adj Close\n",
       "0 2023-01-30  82.410004  82.750000  80.669998  80.830002  80.755142\n",
       "1 2023-01-31  80.449997  80.910004  79.470001  80.480003  80.405464\n",
       "2 2023-02-01  80.269997  82.470001  80.010002  82.320000  82.243759\n",
       "3 2023-02-02  82.190002  84.029999  81.900002  83.940002  83.862259\n",
       "4 2023-02-03  83.510002  83.690002  81.820000  81.959999  81.884094"
      ]
     },
     "execution_count": 42,
     "metadata": {},
     "output_type": "execute_result"
    }
   ],
   "source": [
    "test.head()"
   ]
  },
  {
   "cell_type": "code",
   "execution_count": 43,
   "id": "59fbb50e",
   "metadata": {},
   "outputs": [
    {
     "data": {
      "text/html": [
       "<div>\n",
       "<style scoped>\n",
       "    .dataframe tbody tr th:only-of-type {\n",
       "        vertical-align: middle;\n",
       "    }\n",
       "\n",
       "    .dataframe tbody tr th {\n",
       "        vertical-align: top;\n",
       "    }\n",
       "\n",
       "    .dataframe thead th {\n",
       "        text-align: right;\n",
       "    }\n",
       "</style>\n",
       "<table border=\"1\" class=\"dataframe\">\n",
       "  <thead>\n",
       "    <tr style=\"text-align: right;\">\n",
       "      <th></th>\n",
       "      <th>0</th>\n",
       "      <th>1</th>\n",
       "      <th>2</th>\n",
       "      <th>3</th>\n",
       "      <th>4</th>\n",
       "    </tr>\n",
       "  </thead>\n",
       "  <tbody>\n",
       "    <tr>\n",
       "      <th>0</th>\n",
       "      <td>81.440130</td>\n",
       "      <td>83.121655</td>\n",
       "      <td>80.576358</td>\n",
       "      <td>82.357421</td>\n",
       "      <td>82.135673</td>\n",
       "    </tr>\n",
       "    <tr>\n",
       "      <th>1</th>\n",
       "      <td>80.197255</td>\n",
       "      <td>81.678977</td>\n",
       "      <td>79.371215</td>\n",
       "      <td>81.000617</td>\n",
       "      <td>80.604743</td>\n",
       "    </tr>\n",
       "    <tr>\n",
       "      <th>2</th>\n",
       "      <td>78.886114</td>\n",
       "      <td>80.353313</td>\n",
       "      <td>77.974844</td>\n",
       "      <td>79.549778</td>\n",
       "      <td>79.134018</td>\n",
       "    </tr>\n",
       "    <tr>\n",
       "      <th>3</th>\n",
       "      <td>77.865427</td>\n",
       "      <td>79.336741</td>\n",
       "      <td>76.866346</td>\n",
       "      <td>78.429836</td>\n",
       "      <td>78.035116</td>\n",
       "    </tr>\n",
       "    <tr>\n",
       "      <th>4</th>\n",
       "      <td>77.080767</td>\n",
       "      <td>78.543020</td>\n",
       "      <td>76.016485</td>\n",
       "      <td>77.577844</td>\n",
       "      <td>77.200487</td>\n",
       "    </tr>\n",
       "  </tbody>\n",
       "</table>\n",
       "</div>"
      ],
      "text/plain": [
       "           0          1          2          3          4\n",
       "0  81.440130  83.121655  80.576358  82.357421  82.135673\n",
       "1  80.197255  81.678977  79.371215  81.000617  80.604743\n",
       "2  78.886114  80.353313  77.974844  79.549778  79.134018\n",
       "3  77.865427  79.336741  76.866346  78.429836  78.035116\n",
       "4  77.080767  78.543020  76.016485  77.577844  77.200487"
      ]
     },
     "execution_count": 43,
     "metadata": {},
     "output_type": "execute_result"
    }
   ],
   "source": [
    "p56.head()"
   ]
  },
  {
   "cell_type": "code",
   "execution_count": 44,
   "id": "188be388",
   "metadata": {},
   "outputs": [],
   "source": [
    "new_cols = ['p1', 'p2', 'p3','p4','p5']"
   ]
  },
  {
   "cell_type": "code",
   "execution_count": 45,
   "id": "a3e01baa",
   "metadata": {},
   "outputs": [],
   "source": [
    "p56.columns = new_cols"
   ]
  },
  {
   "cell_type": "code",
   "execution_count": 46,
   "id": "0288c605",
   "metadata": {},
   "outputs": [
    {
     "data": {
      "text/html": [
       "<div>\n",
       "<style scoped>\n",
       "    .dataframe tbody tr th:only-of-type {\n",
       "        vertical-align: middle;\n",
       "    }\n",
       "\n",
       "    .dataframe tbody tr th {\n",
       "        vertical-align: top;\n",
       "    }\n",
       "\n",
       "    .dataframe thead th {\n",
       "        text-align: right;\n",
       "    }\n",
       "</style>\n",
       "<table border=\"1\" class=\"dataframe\">\n",
       "  <thead>\n",
       "    <tr style=\"text-align: right;\">\n",
       "      <th></th>\n",
       "      <th>p1</th>\n",
       "      <th>p2</th>\n",
       "      <th>p3</th>\n",
       "      <th>p4</th>\n",
       "      <th>p5</th>\n",
       "    </tr>\n",
       "  </thead>\n",
       "  <tbody>\n",
       "    <tr>\n",
       "      <th>0</th>\n",
       "      <td>81.440130</td>\n",
       "      <td>83.121655</td>\n",
       "      <td>80.576358</td>\n",
       "      <td>82.357421</td>\n",
       "      <td>82.135673</td>\n",
       "    </tr>\n",
       "    <tr>\n",
       "      <th>1</th>\n",
       "      <td>80.197255</td>\n",
       "      <td>81.678977</td>\n",
       "      <td>79.371215</td>\n",
       "      <td>81.000617</td>\n",
       "      <td>80.604743</td>\n",
       "    </tr>\n",
       "    <tr>\n",
       "      <th>2</th>\n",
       "      <td>78.886114</td>\n",
       "      <td>80.353313</td>\n",
       "      <td>77.974844</td>\n",
       "      <td>79.549778</td>\n",
       "      <td>79.134018</td>\n",
       "    </tr>\n",
       "    <tr>\n",
       "      <th>3</th>\n",
       "      <td>77.865427</td>\n",
       "      <td>79.336741</td>\n",
       "      <td>76.866346</td>\n",
       "      <td>78.429836</td>\n",
       "      <td>78.035116</td>\n",
       "    </tr>\n",
       "    <tr>\n",
       "      <th>4</th>\n",
       "      <td>77.080767</td>\n",
       "      <td>78.543020</td>\n",
       "      <td>76.016485</td>\n",
       "      <td>77.577844</td>\n",
       "      <td>77.200487</td>\n",
       "    </tr>\n",
       "  </tbody>\n",
       "</table>\n",
       "</div>"
      ],
      "text/plain": [
       "          p1         p2         p3         p4         p5\n",
       "0  81.440130  83.121655  80.576358  82.357421  82.135673\n",
       "1  80.197255  81.678977  79.371215  81.000617  80.604743\n",
       "2  78.886114  80.353313  77.974844  79.549778  79.134018\n",
       "3  77.865427  79.336741  76.866346  78.429836  78.035116\n",
       "4  77.080767  78.543020  76.016485  77.577844  77.200487"
      ]
     },
     "execution_count": 46,
     "metadata": {},
     "output_type": "execute_result"
    }
   ],
   "source": [
    "p56.head()"
   ]
  },
  {
   "cell_type": "code",
   "execution_count": 47,
   "id": "b6c73135",
   "metadata": {},
   "outputs": [],
   "source": [
    "new_test = pd.concat([test,p56],axis=1)"
   ]
  },
  {
   "cell_type": "code",
   "execution_count": 48,
   "id": "0812e311",
   "metadata": {},
   "outputs": [
    {
     "data": {
      "text/html": [
       "<div>\n",
       "<style scoped>\n",
       "    .dataframe tbody tr th:only-of-type {\n",
       "        vertical-align: middle;\n",
       "    }\n",
       "\n",
       "    .dataframe tbody tr th {\n",
       "        vertical-align: top;\n",
       "    }\n",
       "\n",
       "    .dataframe thead th {\n",
       "        text-align: right;\n",
       "    }\n",
       "</style>\n",
       "<table border=\"1\" class=\"dataframe\">\n",
       "  <thead>\n",
       "    <tr style=\"text-align: right;\">\n",
       "      <th></th>\n",
       "      <th>Date</th>\n",
       "      <th>Open</th>\n",
       "      <th>High</th>\n",
       "      <th>Low</th>\n",
       "      <th>Close</th>\n",
       "      <th>Adj Close</th>\n",
       "      <th>p1</th>\n",
       "      <th>p2</th>\n",
       "      <th>p3</th>\n",
       "      <th>p4</th>\n",
       "      <th>p5</th>\n",
       "    </tr>\n",
       "  </thead>\n",
       "  <tbody>\n",
       "    <tr>\n",
       "      <th>0</th>\n",
       "      <td>2023-01-30</td>\n",
       "      <td>82.410004</td>\n",
       "      <td>82.750000</td>\n",
       "      <td>80.669998</td>\n",
       "      <td>80.830002</td>\n",
       "      <td>80.755142</td>\n",
       "      <td>81.440130</td>\n",
       "      <td>83.121655</td>\n",
       "      <td>80.576358</td>\n",
       "      <td>82.357421</td>\n",
       "      <td>82.135673</td>\n",
       "    </tr>\n",
       "    <tr>\n",
       "      <th>1</th>\n",
       "      <td>2023-01-31</td>\n",
       "      <td>80.449997</td>\n",
       "      <td>80.910004</td>\n",
       "      <td>79.470001</td>\n",
       "      <td>80.480003</td>\n",
       "      <td>80.405464</td>\n",
       "      <td>80.197255</td>\n",
       "      <td>81.678977</td>\n",
       "      <td>79.371215</td>\n",
       "      <td>81.000617</td>\n",
       "      <td>80.604743</td>\n",
       "    </tr>\n",
       "    <tr>\n",
       "      <th>2</th>\n",
       "      <td>2023-02-01</td>\n",
       "      <td>80.269997</td>\n",
       "      <td>82.470001</td>\n",
       "      <td>80.010002</td>\n",
       "      <td>82.320000</td>\n",
       "      <td>82.243759</td>\n",
       "      <td>78.886114</td>\n",
       "      <td>80.353313</td>\n",
       "      <td>77.974844</td>\n",
       "      <td>79.549778</td>\n",
       "      <td>79.134018</td>\n",
       "    </tr>\n",
       "    <tr>\n",
       "      <th>3</th>\n",
       "      <td>2023-02-02</td>\n",
       "      <td>82.190002</td>\n",
       "      <td>84.029999</td>\n",
       "      <td>81.900002</td>\n",
       "      <td>83.940002</td>\n",
       "      <td>83.862259</td>\n",
       "      <td>77.865427</td>\n",
       "      <td>79.336741</td>\n",
       "      <td>76.866346</td>\n",
       "      <td>78.429836</td>\n",
       "      <td>78.035116</td>\n",
       "    </tr>\n",
       "    <tr>\n",
       "      <th>4</th>\n",
       "      <td>2023-02-03</td>\n",
       "      <td>83.510002</td>\n",
       "      <td>83.690002</td>\n",
       "      <td>81.820000</td>\n",
       "      <td>81.959999</td>\n",
       "      <td>81.884094</td>\n",
       "      <td>77.080767</td>\n",
       "      <td>78.543020</td>\n",
       "      <td>76.016485</td>\n",
       "      <td>77.577844</td>\n",
       "      <td>77.200487</td>\n",
       "    </tr>\n",
       "    <tr>\n",
       "      <th>5</th>\n",
       "      <td>2023-02-06</td>\n",
       "      <td>81.470001</td>\n",
       "      <td>82.440002</td>\n",
       "      <td>81.239998</td>\n",
       "      <td>82.349998</td>\n",
       "      <td>82.273727</td>\n",
       "      <td>76.411091</td>\n",
       "      <td>77.850929</td>\n",
       "      <td>75.302351</td>\n",
       "      <td>76.858011</td>\n",
       "      <td>76.486682</td>\n",
       "    </tr>\n",
       "    <tr>\n",
       "      <th>6</th>\n",
       "      <td>2023-02-07</td>\n",
       "      <td>81.980003</td>\n",
       "      <td>82.370003</td>\n",
       "      <td>80.540001</td>\n",
       "      <td>82.110001</td>\n",
       "      <td>82.033958</td>\n",
       "      <td>75.772125</td>\n",
       "      <td>77.181085</td>\n",
       "      <td>74.630735</td>\n",
       "      <td>76.178842</td>\n",
       "      <td>75.802315</td>\n",
       "    </tr>\n",
       "    <tr>\n",
       "      <th>7</th>\n",
       "      <td>2023-02-08</td>\n",
       "      <td>81.690002</td>\n",
       "      <td>82.599998</td>\n",
       "      <td>81.300003</td>\n",
       "      <td>81.959999</td>\n",
       "      <td>81.884094</td>\n",
       "      <td>75.130640</td>\n",
       "      <td>76.505451</td>\n",
       "      <td>73.966485</td>\n",
       "      <td>75.501376</td>\n",
       "      <td>75.118715</td>\n",
       "    </tr>\n",
       "    <tr>\n",
       "      <th>8</th>\n",
       "      <td>2023-02-09</td>\n",
       "      <td>82.339996</td>\n",
       "      <td>82.629997</td>\n",
       "      <td>80.440002</td>\n",
       "      <td>80.790001</td>\n",
       "      <td>80.715179</td>\n",
       "      <td>74.484836</td>\n",
       "      <td>75.822577</td>\n",
       "      <td>73.304164</td>\n",
       "      <td>74.821644</td>\n",
       "      <td>74.437095</td>\n",
       "    </tr>\n",
       "    <tr>\n",
       "      <th>9</th>\n",
       "      <td>2023-02-10</td>\n",
       "      <td>80.809998</td>\n",
       "      <td>81.349998</td>\n",
       "      <td>80.400002</td>\n",
       "      <td>81.290001</td>\n",
       "      <td>81.214714</td>\n",
       "      <td>73.843390</td>\n",
       "      <td>75.145333</td>\n",
       "      <td>72.651773</td>\n",
       "      <td>74.148898</td>\n",
       "      <td>73.766466</td>\n",
       "    </tr>\n",
       "    <tr>\n",
       "      <th>10</th>\n",
       "      <td>2023-02-13</td>\n",
       "      <td>81.199997</td>\n",
       "      <td>82.919998</td>\n",
       "      <td>81.080002</td>\n",
       "      <td>82.680000</td>\n",
       "      <td>82.603424</td>\n",
       "      <td>73.215534</td>\n",
       "      <td>74.483873</td>\n",
       "      <td>72.018312</td>\n",
       "      <td>73.494337</td>\n",
       "      <td>73.113602</td>\n",
       "    </tr>\n",
       "    <tr>\n",
       "      <th>11</th>\n",
       "      <td>2023-02-14</td>\n",
       "      <td>82.129997</td>\n",
       "      <td>83.809998</td>\n",
       "      <td>81.959999</td>\n",
       "      <td>83.540001</td>\n",
       "      <td>83.462631</td>\n",
       "      <td>72.605080</td>\n",
       "      <td>73.843162</td>\n",
       "      <td>71.408544</td>\n",
       "      <td>72.860701</td>\n",
       "      <td>72.482786</td>\n",
       "    </tr>\n",
       "    <tr>\n",
       "      <th>12</th>\n",
       "      <td>2023-02-15</td>\n",
       "      <td>82.610001</td>\n",
       "      <td>84.790001</td>\n",
       "      <td>82.440002</td>\n",
       "      <td>84.769997</td>\n",
       "      <td>84.691490</td>\n",
       "      <td>72.010726</td>\n",
       "      <td>73.214813</td>\n",
       "      <td>70.817152</td>\n",
       "      <td>72.242419</td>\n",
       "      <td>71.873049</td>\n",
       "    </tr>\n",
       "    <tr>\n",
       "      <th>13</th>\n",
       "      <td>2023-02-16</td>\n",
       "      <td>83.610001</td>\n",
       "      <td>84.540001</td>\n",
       "      <td>82.980003</td>\n",
       "      <td>84.050003</td>\n",
       "      <td>83.972160</td>\n",
       "      <td>71.429278</td>\n",
       "      <td>72.603309</td>\n",
       "      <td>70.240097</td>\n",
       "      <td>71.638326</td>\n",
       "      <td>71.277639</td>\n",
       "    </tr>\n",
       "    <tr>\n",
       "      <th>14</th>\n",
       "      <td>2023-02-17</td>\n",
       "      <td>83.589996</td>\n",
       "      <td>83.820000</td>\n",
       "      <td>82.230003</td>\n",
       "      <td>83.040001</td>\n",
       "      <td>82.963097</td>\n",
       "      <td>70.857857</td>\n",
       "      <td>72.004710</td>\n",
       "      <td>69.672421</td>\n",
       "      <td>71.045617</td>\n",
       "      <td>70.692998</td>\n",
       "    </tr>\n",
       "    <tr>\n",
       "      <th>15</th>\n",
       "      <td>2023-02-21</td>\n",
       "      <td>82.139999</td>\n",
       "      <td>83.379997</td>\n",
       "      <td>81.809998</td>\n",
       "      <td>82.260002</td>\n",
       "      <td>82.183815</td>\n",
       "      <td>70.294096</td>\n",
       "      <td>71.416419</td>\n",
       "      <td>69.112102</td>\n",
       "      <td>70.462221</td>\n",
       "      <td>70.116846</td>\n",
       "    </tr>\n",
       "    <tr>\n",
       "      <th>16</th>\n",
       "      <td>2023-02-22</td>\n",
       "      <td>82.160004</td>\n",
       "      <td>84.330002</td>\n",
       "      <td>82.099998</td>\n",
       "      <td>83.190002</td>\n",
       "      <td>83.112961</td>\n",
       "      <td>69.736722</td>\n",
       "      <td>70.836730</td>\n",
       "      <td>68.558477</td>\n",
       "      <td>69.886755</td>\n",
       "      <td>69.548200</td>\n",
       "    </tr>\n",
       "    <tr>\n",
       "      <th>17</th>\n",
       "      <td>2023-02-23</td>\n",
       "      <td>83.489998</td>\n",
       "      <td>84.410004</td>\n",
       "      <td>81.900002</td>\n",
       "      <td>82.940002</td>\n",
       "      <td>82.863190</td>\n",
       "      <td>69.185178</td>\n",
       "      <td>70.264801</td>\n",
       "      <td>68.011427</td>\n",
       "      <td>69.318527</td>\n",
       "      <td>68.986700</td>\n",
       "    </tr>\n",
       "    <tr>\n",
       "      <th>18</th>\n",
       "      <td>2023-02-24</td>\n",
       "      <td>81.760002</td>\n",
       "      <td>83.779999</td>\n",
       "      <td>81.650002</td>\n",
       "      <td>83.550003</td>\n",
       "      <td>83.472626</td>\n",
       "      <td>68.639248</td>\n",
       "      <td>69.700232</td>\n",
       "      <td>67.470871</td>\n",
       "      <td>68.757208</td>\n",
       "      <td>68.432148</td>\n",
       "    </tr>\n",
       "    <tr>\n",
       "      <th>19</th>\n",
       "      <td>2023-02-27</td>\n",
       "      <td>84.000000</td>\n",
       "      <td>84.860001</td>\n",
       "      <td>83.489998</td>\n",
       "      <td>83.839996</td>\n",
       "      <td>83.762352</td>\n",
       "      <td>68.098789</td>\n",
       "      <td>69.142793</td>\n",
       "      <td>66.936668</td>\n",
       "      <td>68.202580</td>\n",
       "      <td>67.884357</td>\n",
       "    </tr>\n",
       "    <tr>\n",
       "      <th>20</th>\n",
       "      <td>2023-02-28</td>\n",
       "      <td>83.620003</td>\n",
       "      <td>85.650002</td>\n",
       "      <td>83.459999</td>\n",
       "      <td>84.709999</td>\n",
       "      <td>84.631546</td>\n",
       "      <td>67.563677</td>\n",
       "      <td>68.592287</td>\n",
       "      <td>66.408661</td>\n",
       "      <td>67.654497</td>\n",
       "      <td>67.343119</td>\n",
       "    </tr>\n",
       "    <tr>\n",
       "      <th>21</th>\n",
       "      <td>2023-03-01</td>\n",
       "      <td>84.660004</td>\n",
       "      <td>85.360001</td>\n",
       "      <td>83.750000</td>\n",
       "      <td>84.139999</td>\n",
       "      <td>84.062073</td>\n",
       "      <td>67.033847</td>\n",
       "      <td>68.048586</td>\n",
       "      <td>65.886753</td>\n",
       "      <td>67.112865</td>\n",
       "      <td>66.808314</td>\n",
       "    </tr>\n",
       "    <tr>\n",
       "      <th>22</th>\n",
       "      <td>2023-03-02</td>\n",
       "      <td>83.599998</td>\n",
       "      <td>85.730003</td>\n",
       "      <td>83.379997</td>\n",
       "      <td>85.720001</td>\n",
       "      <td>85.640610</td>\n",
       "      <td>66.509331</td>\n",
       "      <td>67.511670</td>\n",
       "      <td>65.370979</td>\n",
       "      <td>66.577715</td>\n",
       "      <td>66.279952</td>\n",
       "    </tr>\n",
       "    <tr>\n",
       "      <th>23</th>\n",
       "      <td>2023-03-03</td>\n",
       "      <td>85.900002</td>\n",
       "      <td>87.040001</td>\n",
       "      <td>85.150002</td>\n",
       "      <td>86.379997</td>\n",
       "      <td>86.299995</td>\n",
       "      <td>65.990321</td>\n",
       "      <td>66.981669</td>\n",
       "      <td>64.861548</td>\n",
       "      <td>66.049223</td>\n",
       "      <td>65.758202</td>\n",
       "    </tr>\n",
       "    <tr>\n",
       "      <th>24</th>\n",
       "      <td>2023-03-06</td>\n",
       "      <td>86.639999</td>\n",
       "      <td>87.820000</td>\n",
       "      <td>86.470001</td>\n",
       "      <td>87.059998</td>\n",
       "      <td>87.059998</td>\n",
       "      <td>65.477151</td>\n",
       "      <td>66.458844</td>\n",
       "      <td>64.358811</td>\n",
       "      <td>65.527711</td>\n",
       "      <td>65.243391</td>\n",
       "    </tr>\n",
       "    <tr>\n",
       "      <th>25</th>\n",
       "      <td>2023-03-07</td>\n",
       "      <td>86.959999</td>\n",
       "      <td>87.580002</td>\n",
       "      <td>86.099998</td>\n",
       "      <td>86.389999</td>\n",
       "      <td>86.389999</td>\n",
       "      <td>64.970279</td>\n",
       "      <td>65.943607</td>\n",
       "      <td>63.863237</td>\n",
       "      <td>65.013628</td>\n",
       "      <td>64.735980</td>\n",
       "    </tr>\n",
       "    <tr>\n",
       "      <th>26</th>\n",
       "      <td>2023-03-08</td>\n",
       "      <td>86.769997</td>\n",
       "      <td>87.410004</td>\n",
       "      <td>86.070000</td>\n",
       "      <td>86.980003</td>\n",
       "      <td>86.980003</td>\n",
       "      <td>64.470282</td>\n",
       "      <td>65.436467</td>\n",
       "      <td>63.375387</td>\n",
       "      <td>64.507527</td>\n",
       "      <td>64.236527</td>\n",
       "    </tr>\n",
       "    <tr>\n",
       "      <th>27</th>\n",
       "      <td>2023-03-09</td>\n",
       "      <td>89.959999</td>\n",
       "      <td>94.940002</td>\n",
       "      <td>89.769997</td>\n",
       "      <td>91.559998</td>\n",
       "      <td>91.559998</td>\n",
       "      <td>63.977809</td>\n",
       "      <td>64.938025</td>\n",
       "      <td>62.895886</td>\n",
       "      <td>64.010043</td>\n",
       "      <td>63.745658</td>\n",
       "    </tr>\n",
       "    <tr>\n",
       "      <th>28</th>\n",
       "      <td>2023-03-10</td>\n",
       "      <td>91.900002</td>\n",
       "      <td>94.199997</td>\n",
       "      <td>90.790001</td>\n",
       "      <td>91.000000</td>\n",
       "      <td>91.000000</td>\n",
       "      <td>63.493564</td>\n",
       "      <td>64.448933</td>\n",
       "      <td>62.425411</td>\n",
       "      <td>63.521870</td>\n",
       "      <td>63.264060</td>\n",
       "    </tr>\n",
       "    <tr>\n",
       "      <th>29</th>\n",
       "      <td>2023-03-13</td>\n",
       "      <td>89.699997</td>\n",
       "      <td>90.730003</td>\n",
       "      <td>87.660004</td>\n",
       "      <td>88.970001</td>\n",
       "      <td>88.970001</td>\n",
       "      <td>63.018304</td>\n",
       "      <td>63.969874</td>\n",
       "      <td>61.964661</td>\n",
       "      <td>63.043726</td>\n",
       "      <td>62.792457</td>\n",
       "    </tr>\n",
       "    <tr>\n",
       "      <th>30</th>\n",
       "      <td>2023-03-14</td>\n",
       "      <td>91.169998</td>\n",
       "      <td>93.080002</td>\n",
       "      <td>90.199997</td>\n",
       "      <td>91.169998</td>\n",
       "      <td>91.169998</td>\n",
       "      <td>62.552801</td>\n",
       "      <td>63.501570</td>\n",
       "      <td>61.514343</td>\n",
       "      <td>62.576367</td>\n",
       "      <td>62.331579</td>\n",
       "    </tr>\n",
       "    <tr>\n",
       "      <th>31</th>\n",
       "      <td>2023-03-15</td>\n",
       "      <td>88.989998</td>\n",
       "      <td>89.760002</td>\n",
       "      <td>86.449997</td>\n",
       "      <td>89.760002</td>\n",
       "      <td>89.760002</td>\n",
       "      <td>62.097845</td>\n",
       "      <td>63.044744</td>\n",
       "      <td>61.075181</td>\n",
       "      <td>62.120534</td>\n",
       "      <td>61.882183</td>\n",
       "    </tr>\n",
       "    <tr>\n",
       "      <th>32</th>\n",
       "      <td>2023-03-16</td>\n",
       "      <td>89.400002</td>\n",
       "      <td>92.099998</td>\n",
       "      <td>88.570000</td>\n",
       "      <td>91.970001</td>\n",
       "      <td>91.970001</td>\n",
       "      <td>61.654211</td>\n",
       "      <td>62.600101</td>\n",
       "      <td>60.647856</td>\n",
       "      <td>61.676974</td>\n",
       "      <td>61.444986</td>\n",
       "    </tr>\n",
       "    <tr>\n",
       "      <th>33</th>\n",
       "      <td>2023-03-17</td>\n",
       "      <td>91.790001</td>\n",
       "      <td>91.830002</td>\n",
       "      <td>89.349998</td>\n",
       "      <td>90.290001</td>\n",
       "      <td>90.290001</td>\n",
       "      <td>61.222654</td>\n",
       "      <td>62.168330</td>\n",
       "      <td>60.233029</td>\n",
       "      <td>61.246384</td>\n",
       "      <td>61.020697</td>\n",
       "    </tr>\n",
       "    <tr>\n",
       "      <th>34</th>\n",
       "      <td>2023-03-20</td>\n",
       "      <td>90.629997</td>\n",
       "      <td>91.230003</td>\n",
       "      <td>89.410004</td>\n",
       "      <td>89.919998</td>\n",
       "      <td>89.919998</td>\n",
       "      <td>60.803885</td>\n",
       "      <td>61.750083</td>\n",
       "      <td>59.831319</td>\n",
       "      <td>60.829435</td>\n",
       "      <td>60.609964</td>\n",
       "    </tr>\n",
       "    <tr>\n",
       "      <th>35</th>\n",
       "      <td>2023-03-21</td>\n",
       "      <td>90.980003</td>\n",
       "      <td>93.040001</td>\n",
       "      <td>90.959999</td>\n",
       "      <td>92.180000</td>\n",
       "      <td>92.180000</td>\n",
       "      <td>60.398564</td>\n",
       "      <td>61.345951</td>\n",
       "      <td>59.443286</td>\n",
       "      <td>60.426733</td>\n",
       "      <td>60.213386</td>\n",
       "    </tr>\n",
       "    <tr>\n",
       "      <th>36</th>\n",
       "      <td>2023-03-22</td>\n",
       "      <td>92.489998</td>\n",
       "      <td>92.599998</td>\n",
       "      <td>89.550003</td>\n",
       "      <td>89.589996</td>\n",
       "      <td>89.589996</td>\n",
       "      <td>60.007295</td>\n",
       "      <td>60.956466</td>\n",
       "      <td>59.069418</td>\n",
       "      <td>60.038816</td>\n",
       "      <td>59.831496</td>\n",
       "    </tr>\n",
       "    <tr>\n",
       "      <th>37</th>\n",
       "      <td>2023-03-23</td>\n",
       "      <td>90.629997</td>\n",
       "      <td>92.949997</td>\n",
       "      <td>90.529999</td>\n",
       "      <td>91.589996</td>\n",
       "      <td>91.589996</td>\n",
       "      <td>59.630606</td>\n",
       "      <td>60.582097</td>\n",
       "      <td>58.710134</td>\n",
       "      <td>59.666147</td>\n",
       "      <td>59.464742</td>\n",
       "    </tr>\n",
       "    <tr>\n",
       "      <th>38</th>\n",
       "      <td>2023-03-24</td>\n",
       "      <td>90.570000</td>\n",
       "      <td>92.349998</td>\n",
       "      <td>90.320000</td>\n",
       "      <td>91.370003</td>\n",
       "      <td>91.370003</td>\n",
       "      <td>59.268934</td>\n",
       "      <td>60.223217</td>\n",
       "      <td>58.365775</td>\n",
       "      <td>59.309106</td>\n",
       "      <td>59.113499</td>\n",
       "    </tr>\n",
       "    <tr>\n",
       "      <th>39</th>\n",
       "      <td>2023-03-27</td>\n",
       "      <td>92.279999</td>\n",
       "      <td>93.639999</td>\n",
       "      <td>92.110001</td>\n",
       "      <td>93.309998</td>\n",
       "      <td>93.309998</td>\n",
       "      <td>58.922648</td>\n",
       "      <td>59.880132</td>\n",
       "      <td>58.036603</td>\n",
       "      <td>58.967988</td>\n",
       "      <td>58.778055</td>\n",
       "    </tr>\n",
       "    <tr>\n",
       "      <th>40</th>\n",
       "      <td>2023-03-28</td>\n",
       "      <td>93.339996</td>\n",
       "      <td>93.739998</td>\n",
       "      <td>92.559998</td>\n",
       "      <td>93.139999</td>\n",
       "      <td>93.139999</td>\n",
       "      <td>58.592021</td>\n",
       "      <td>59.553057</td>\n",
       "      <td>57.722797</td>\n",
       "      <td>58.643004</td>\n",
       "      <td>58.458605</td>\n",
       "    </tr>\n",
       "  </tbody>\n",
       "</table>\n",
       "</div>"
      ],
      "text/plain": [
       "         Date       Open       High        Low      Close  Adj Close  \\\n",
       "0  2023-01-30  82.410004  82.750000  80.669998  80.830002  80.755142   \n",
       "1  2023-01-31  80.449997  80.910004  79.470001  80.480003  80.405464   \n",
       "2  2023-02-01  80.269997  82.470001  80.010002  82.320000  82.243759   \n",
       "3  2023-02-02  82.190002  84.029999  81.900002  83.940002  83.862259   \n",
       "4  2023-02-03  83.510002  83.690002  81.820000  81.959999  81.884094   \n",
       "5  2023-02-06  81.470001  82.440002  81.239998  82.349998  82.273727   \n",
       "6  2023-02-07  81.980003  82.370003  80.540001  82.110001  82.033958   \n",
       "7  2023-02-08  81.690002  82.599998  81.300003  81.959999  81.884094   \n",
       "8  2023-02-09  82.339996  82.629997  80.440002  80.790001  80.715179   \n",
       "9  2023-02-10  80.809998  81.349998  80.400002  81.290001  81.214714   \n",
       "10 2023-02-13  81.199997  82.919998  81.080002  82.680000  82.603424   \n",
       "11 2023-02-14  82.129997  83.809998  81.959999  83.540001  83.462631   \n",
       "12 2023-02-15  82.610001  84.790001  82.440002  84.769997  84.691490   \n",
       "13 2023-02-16  83.610001  84.540001  82.980003  84.050003  83.972160   \n",
       "14 2023-02-17  83.589996  83.820000  82.230003  83.040001  82.963097   \n",
       "15 2023-02-21  82.139999  83.379997  81.809998  82.260002  82.183815   \n",
       "16 2023-02-22  82.160004  84.330002  82.099998  83.190002  83.112961   \n",
       "17 2023-02-23  83.489998  84.410004  81.900002  82.940002  82.863190   \n",
       "18 2023-02-24  81.760002  83.779999  81.650002  83.550003  83.472626   \n",
       "19 2023-02-27  84.000000  84.860001  83.489998  83.839996  83.762352   \n",
       "20 2023-02-28  83.620003  85.650002  83.459999  84.709999  84.631546   \n",
       "21 2023-03-01  84.660004  85.360001  83.750000  84.139999  84.062073   \n",
       "22 2023-03-02  83.599998  85.730003  83.379997  85.720001  85.640610   \n",
       "23 2023-03-03  85.900002  87.040001  85.150002  86.379997  86.299995   \n",
       "24 2023-03-06  86.639999  87.820000  86.470001  87.059998  87.059998   \n",
       "25 2023-03-07  86.959999  87.580002  86.099998  86.389999  86.389999   \n",
       "26 2023-03-08  86.769997  87.410004  86.070000  86.980003  86.980003   \n",
       "27 2023-03-09  89.959999  94.940002  89.769997  91.559998  91.559998   \n",
       "28 2023-03-10  91.900002  94.199997  90.790001  91.000000  91.000000   \n",
       "29 2023-03-13  89.699997  90.730003  87.660004  88.970001  88.970001   \n",
       "30 2023-03-14  91.169998  93.080002  90.199997  91.169998  91.169998   \n",
       "31 2023-03-15  88.989998  89.760002  86.449997  89.760002  89.760002   \n",
       "32 2023-03-16  89.400002  92.099998  88.570000  91.970001  91.970001   \n",
       "33 2023-03-17  91.790001  91.830002  89.349998  90.290001  90.290001   \n",
       "34 2023-03-20  90.629997  91.230003  89.410004  89.919998  89.919998   \n",
       "35 2023-03-21  90.980003  93.040001  90.959999  92.180000  92.180000   \n",
       "36 2023-03-22  92.489998  92.599998  89.550003  89.589996  89.589996   \n",
       "37 2023-03-23  90.629997  92.949997  90.529999  91.589996  91.589996   \n",
       "38 2023-03-24  90.570000  92.349998  90.320000  91.370003  91.370003   \n",
       "39 2023-03-27  92.279999  93.639999  92.110001  93.309998  93.309998   \n",
       "40 2023-03-28  93.339996  93.739998  92.559998  93.139999  93.139999   \n",
       "\n",
       "           p1         p2         p3         p4         p5  \n",
       "0   81.440130  83.121655  80.576358  82.357421  82.135673  \n",
       "1   80.197255  81.678977  79.371215  81.000617  80.604743  \n",
       "2   78.886114  80.353313  77.974844  79.549778  79.134018  \n",
       "3   77.865427  79.336741  76.866346  78.429836  78.035116  \n",
       "4   77.080767  78.543020  76.016485  77.577844  77.200487  \n",
       "5   76.411091  77.850929  75.302351  76.858011  76.486682  \n",
       "6   75.772125  77.181085  74.630735  76.178842  75.802315  \n",
       "7   75.130640  76.505451  73.966485  75.501376  75.118715  \n",
       "8   74.484836  75.822577  73.304164  74.821644  74.437095  \n",
       "9   73.843390  75.145333  72.651773  74.148898  73.766466  \n",
       "10  73.215534  74.483873  72.018312  73.494337  73.113602  \n",
       "11  72.605080  73.843162  71.408544  72.860701  72.482786  \n",
       "12  72.010726  73.214813  70.817152  72.242419  71.873049  \n",
       "13  71.429278  72.603309  70.240097  71.638326  71.277639  \n",
       "14  70.857857  72.004710  69.672421  71.045617  70.692998  \n",
       "15  70.294096  71.416419  69.112102  70.462221  70.116846  \n",
       "16  69.736722  70.836730  68.558477  69.886755  69.548200  \n",
       "17  69.185178  70.264801  68.011427  69.318527  68.986700  \n",
       "18  68.639248  69.700232  67.470871  68.757208  68.432148  \n",
       "19  68.098789  69.142793  66.936668  68.202580  67.884357  \n",
       "20  67.563677  68.592287  66.408661  67.654497  67.343119  \n",
       "21  67.033847  68.048586  65.886753  67.112865  66.808314  \n",
       "22  66.509331  67.511670  65.370979  66.577715  66.279952  \n",
       "23  65.990321  66.981669  64.861548  66.049223  65.758202  \n",
       "24  65.477151  66.458844  64.358811  65.527711  65.243391  \n",
       "25  64.970279  65.943607  63.863237  65.013628  64.735980  \n",
       "26  64.470282  65.436467  63.375387  64.507527  64.236527  \n",
       "27  63.977809  64.938025  62.895886  64.010043  63.745658  \n",
       "28  63.493564  64.448933  62.425411  63.521870  63.264060  \n",
       "29  63.018304  63.969874  61.964661  63.043726  62.792457  \n",
       "30  62.552801  63.501570  61.514343  62.576367  62.331579  \n",
       "31  62.097845  63.044744  61.075181  62.120534  61.882183  \n",
       "32  61.654211  62.600101  60.647856  61.676974  61.444986  \n",
       "33  61.222654  62.168330  60.233029  61.246384  61.020697  \n",
       "34  60.803885  61.750083  59.831319  60.829435  60.609964  \n",
       "35  60.398564  61.345951  59.443286  60.426733  60.213386  \n",
       "36  60.007295  60.956466  59.069418  60.038816  59.831496  \n",
       "37  59.630606  60.582097  58.710134  59.666147  59.464742  \n",
       "38  59.268934  60.223217  58.365775  59.309106  59.113499  \n",
       "39  58.922648  59.880132  58.036603  58.967988  58.778055  \n",
       "40  58.592021  59.553057  57.722797  58.643004  58.458605  "
      ]
     },
     "execution_count": 48,
     "metadata": {},
     "output_type": "execute_result"
    }
   ],
   "source": [
    "new_test.head(50)"
   ]
  },
  {
   "cell_type": "code",
   "execution_count": 49,
   "id": "d5de0c6f",
   "metadata": {},
   "outputs": [
    {
     "data": {
      "text/plain": [
       "[<matplotlib.lines.Line2D at 0x1bb48d713a0>]"
      ]
     },
     "execution_count": 49,
     "metadata": {},
     "output_type": "execute_result"
    },
    {
     "data": {
      "image/png": "[encoded data removed]",
      "text/plain": [
       "<Figure size 432x288 with 1 Axes>"
      ]
     },
     "metadata": {
      "needs_background": "light"
     },
     "output_type": "display_data"
    }
   ],
   "source": [
    "plt.plot(new_test.p1)\n",
    "plt.plot(new_test.Open)"
   ]
  },
  {
   "cell_type": "code",
   "execution_count": 50,
   "id": "4fd024b1",
   "metadata": {},
   "outputs": [
    {
     "name": "stdout",
     "output_type": "stream",
     "text": [
      "20.391678501682556\n"
     ]
    }
   ],
   "source": [
    "from sklearn.metrics import mean_squared_error\n",
    "from math import sqrt\n",
    "rmse=sqrt(mean_squared_error(new_test['Open'],new_test['p1']))\n",
    "print(rmse)\n",
    "     "
   ]
  },
  {
   "cell_type": "code",
   "execution_count": 51,
   "id": "c368ede8",
   "metadata": {},
   "outputs": [
    {
     "name": "stdout",
     "output_type": "stream",
     "text": [
      "20.728301982330777\n"
     ]
    }
   ],
   "source": [
    "from sklearn.metrics import mean_squared_error\n",
    "from math import sqrt\n",
    "rmse=sqrt(mean_squared_error(new_test['High'],new_test['p2']))\n",
    "print(rmse)\n",
    "     "
   ]
  },
  {
   "cell_type": "code",
   "execution_count": 52,
   "id": "619d0337",
   "metadata": {},
   "outputs": [
    {
     "name": "stdout",
     "output_type": "stream",
     "text": [
      "20.535563121590247\n"
     ]
    }
   ],
   "source": [
    "from sklearn.metrics import mean_squared_error\n",
    "from math import sqrt\n",
    "rmse=sqrt(mean_squared_error(new_test['Low'],new_test['p3']))\n",
    "print(rmse)\n",
    "     "
   ]
  },
  {
   "cell_type": "code",
   "execution_count": 53,
   "id": "93e9b66b",
   "metadata": {},
   "outputs": [
    {
     "data": {
      "text/plain": [
       "251"
      ]
     },
     "execution_count": 53,
     "metadata": {},
     "output_type": "execute_result"
    }
   ],
   "source": [
    "len(df1)"
   ]
  },
  {
   "cell_type": "code",
   "execution_count": 54,
   "id": "046c2fc5",
   "metadata": {},
   "outputs": [
    {
     "data": {
      "text/plain": [
       "(12, 5)"
      ]
     },
     "execution_count": 54,
     "metadata": {},
     "output_type": "execute_result"
    }
   ],
   "source": [
    "future_input = df1[239:]\n",
    "future_input.shape"
   ]
  },
  {
   "cell_type": "code",
   "execution_count": 55,
   "id": "e6107e3e",
   "metadata": {},
   "outputs": [],
   "source": [
    "scaled_future = scaler.transform(future_input)"
   ]
  },
  {
   "cell_type": "code",
   "execution_count": 56,
   "id": "c9e0424b",
   "metadata": {},
   "outputs": [],
   "source": [
    "x_input= scaled_future.reshape((1, n_input,5))"
   ]
  },
  {
   "cell_type": "code",
   "execution_count": 57,
   "id": "6a22b269",
   "metadata": {},
   "outputs": [
    {
     "data": {
      "text/plain": [
       "(1, 12, 5)"
      ]
     },
     "execution_count": 57,
     "metadata": {},
     "output_type": "execute_result"
    }
   ],
   "source": [
    "x_input.shape"
   ]
  },
  {
   "cell_type": "code",
   "execution_count": 58,
   "id": "383ef5a6",
   "metadata": {},
   "outputs": [
    {
     "data": {
      "text/plain": [
       "array([[[1.24275731, 1.18595144, 1.19814617, 1.16150493, 1.16334245],\n",
       "        [1.28617017, 1.25078607, 1.27259732, 1.22340571, 1.22511796],\n",
       "        [1.22178923, 1.15918988, 1.16267899, 1.18373299, 1.18552553],\n",
       "        [1.23389769, 1.22374853, 1.22481957, 1.2459152 , 1.24758189],\n",
       "        [1.30448043, 1.21629955, 1.24768253, 1.19864545, 1.2004078 ],\n",
       "        [1.27022257, 1.19974605, 1.2494414 , 1.18823476, 1.19001819],\n",
       "        [1.28055914, 1.24968248, 1.29487416, 1.25182389, 1.25347863],\n",
       "        [1.32515312, 1.23754314, 1.25354498, 1.17894958, 1.18075179],\n",
       "        [1.27022257, 1.24719934, 1.28227019, 1.23522309, 1.23691142],\n",
       "        [1.26845071, 1.23064583, 1.27611479, 1.2290332 , 1.23073406],\n",
       "        [1.31895132, 1.26623595, 1.32858251, 1.28361837, 1.28520876],\n",
       "        [1.35025573, 1.26899484, 1.34177262, 1.27883515, 1.28043522]]])"
      ]
     },
     "execution_count": 58,
     "metadata": {},
     "output_type": "execute_result"
    }
   ],
   "source": [
    "x_input"
   ]
  },
  {
   "cell_type": "code",
   "execution_count": 59,
   "id": "4985ac26",
   "metadata": {},
   "outputs": [
    {
     "data": {
      "text/html": [
       "<div>\n",
       "<style scoped>\n",
       "    .dataframe tbody tr th:only-of-type {\n",
       "        vertical-align: middle;\n",
       "    }\n",
       "\n",
       "    .dataframe tbody tr th {\n",
       "        vertical-align: top;\n",
       "    }\n",
       "\n",
       "    .dataframe thead th {\n",
       "        text-align: right;\n",
       "    }\n",
       "</style>\n",
       "<table border=\"1\" class=\"dataframe\">\n",
       "  <thead>\n",
       "    <tr style=\"text-align: right;\">\n",
       "      <th></th>\n",
       "      <th>Open</th>\n",
       "      <th>High</th>\n",
       "      <th>Low</th>\n",
       "      <th>Close</th>\n",
       "      <th>Adj Close</th>\n",
       "    </tr>\n",
       "    <tr>\n",
       "      <th>Date</th>\n",
       "      <th></th>\n",
       "      <th></th>\n",
       "      <th></th>\n",
       "      <th></th>\n",
       "      <th></th>\n",
       "    </tr>\n",
       "  </thead>\n",
       "  <tbody>\n",
       "    <tr>\n",
       "      <th>2023-03-13</th>\n",
       "      <td>89.699997</td>\n",
       "      <td>90.730003</td>\n",
       "      <td>87.660004</td>\n",
       "      <td>88.970001</td>\n",
       "      <td>88.970001</td>\n",
       "    </tr>\n",
       "    <tr>\n",
       "      <th>2023-03-14</th>\n",
       "      <td>91.169998</td>\n",
       "      <td>93.080002</td>\n",
       "      <td>90.199997</td>\n",
       "      <td>91.169998</td>\n",
       "      <td>91.169998</td>\n",
       "    </tr>\n",
       "    <tr>\n",
       "      <th>2023-03-15</th>\n",
       "      <td>88.989998</td>\n",
       "      <td>89.760002</td>\n",
       "      <td>86.449997</td>\n",
       "      <td>89.760002</td>\n",
       "      <td>89.760002</td>\n",
       "    </tr>\n",
       "    <tr>\n",
       "      <th>2023-03-16</th>\n",
       "      <td>89.400002</td>\n",
       "      <td>92.099998</td>\n",
       "      <td>88.570000</td>\n",
       "      <td>91.970001</td>\n",
       "      <td>91.970001</td>\n",
       "    </tr>\n",
       "    <tr>\n",
       "      <th>2023-03-17</th>\n",
       "      <td>91.790001</td>\n",
       "      <td>91.830002</td>\n",
       "      <td>89.349998</td>\n",
       "      <td>90.290001</td>\n",
       "      <td>90.290001</td>\n",
       "    </tr>\n",
       "    <tr>\n",
       "      <th>2023-03-20</th>\n",
       "      <td>90.629997</td>\n",
       "      <td>91.230003</td>\n",
       "      <td>89.410004</td>\n",
       "      <td>89.919998</td>\n",
       "      <td>89.919998</td>\n",
       "    </tr>\n",
       "    <tr>\n",
       "      <th>2023-03-21</th>\n",
       "      <td>90.980003</td>\n",
       "      <td>93.040001</td>\n",
       "      <td>90.959999</td>\n",
       "      <td>92.180000</td>\n",
       "      <td>92.180000</td>\n",
       "    </tr>\n",
       "    <tr>\n",
       "      <th>2023-03-22</th>\n",
       "      <td>92.489998</td>\n",
       "      <td>92.599998</td>\n",
       "      <td>89.550003</td>\n",
       "      <td>89.589996</td>\n",
       "      <td>89.589996</td>\n",
       "    </tr>\n",
       "    <tr>\n",
       "      <th>2023-03-23</th>\n",
       "      <td>90.629997</td>\n",
       "      <td>92.949997</td>\n",
       "      <td>90.529999</td>\n",
       "      <td>91.589996</td>\n",
       "      <td>91.589996</td>\n",
       "    </tr>\n",
       "    <tr>\n",
       "      <th>2023-03-24</th>\n",
       "      <td>90.570000</td>\n",
       "      <td>92.349998</td>\n",
       "      <td>90.320000</td>\n",
       "      <td>91.370003</td>\n",
       "      <td>91.370003</td>\n",
       "    </tr>\n",
       "    <tr>\n",
       "      <th>2023-03-27</th>\n",
       "      <td>92.279999</td>\n",
       "      <td>93.639999</td>\n",
       "      <td>92.110001</td>\n",
       "      <td>93.309998</td>\n",
       "      <td>93.309998</td>\n",
       "    </tr>\n",
       "    <tr>\n",
       "      <th>2023-03-28</th>\n",
       "      <td>93.339996</td>\n",
       "      <td>93.739998</td>\n",
       "      <td>92.559998</td>\n",
       "      <td>93.139999</td>\n",
       "      <td>93.139999</td>\n",
       "    </tr>\n",
       "  </tbody>\n",
       "</table>\n",
       "</div>"
      ],
      "text/plain": [
       "                 Open       High        Low      Close  Adj Close\n",
       "Date                                                             \n",
       "2023-03-13  89.699997  90.730003  87.660004  88.970001  88.970001\n",
       "2023-03-14  91.169998  93.080002  90.199997  91.169998  91.169998\n",
       "2023-03-15  88.989998  89.760002  86.449997  89.760002  89.760002\n",
       "2023-03-16  89.400002  92.099998  88.570000  91.970001  91.970001\n",
       "2023-03-17  91.790001  91.830002  89.349998  90.290001  90.290001\n",
       "2023-03-20  90.629997  91.230003  89.410004  89.919998  89.919998\n",
       "2023-03-21  90.980003  93.040001  90.959999  92.180000  92.180000\n",
       "2023-03-22  92.489998  92.599998  89.550003  89.589996  89.589996\n",
       "2023-03-23  90.629997  92.949997  90.529999  91.589996  91.589996\n",
       "2023-03-24  90.570000  92.349998  90.320000  91.370003  91.370003\n",
       "2023-03-27  92.279999  93.639999  92.110001  93.309998  93.309998\n",
       "2023-03-28  93.339996  93.739998  92.559998  93.139999  93.139999"
      ]
     },
     "execution_count": 59,
     "metadata": {},
     "output_type": "execute_result"
    }
   ],
   "source": [
    "future_input"
   ]
  },
  {
   "cell_type": "code",
   "execution_count": 60,
   "id": "bc6b3f16",
   "metadata": {},
   "outputs": [
    {
     "data": {
      "text/plain": [
       "(12, 5)"
      ]
     },
     "execution_count": 60,
     "metadata": {},
     "output_type": "execute_result"
    }
   ],
   "source": [
    "future_input.shape"
   ]
  },
  {
   "cell_type": "code",
   "execution_count": 65,
   "id": "fb40f6c5",
   "metadata": {},
   "outputs": [
    {
     "name": "stdout",
     "output_type": "stream",
     "text": [
      "1/1 [==============================] - 0s 32ms/step\n"
     ]
    }
   ],
   "source": [
    "prediction= model.predict(x_input)"
   ]
  },
  {
   "cell_type": "markdown",
   "id": "d481c118",
   "metadata": {},
   "source": [
    "# Next day Prediction"
   ]
  },
  {
   "cell_type": "code",
   "execution_count": 66,
   "id": "5e8d5e3a",
   "metadata": {},
   "outputs": [
    {
     "data": {
      "text/plain": [
       "array([[88.96789 , 91.225784, 88.16399 , 90.58042 , 90.27108 ]],\n",
       "      dtype=float32)"
      ]
     },
     "execution_count": 66,
     "metadata": {},
     "output_type": "execute_result"
    }
   ],
   "source": [
    "scaler.inverse_transform(prediction)"
   ]
  },
  {
   "cell_type": "code",
   "execution_count": null,
   "id": "57a71405",
   "metadata": {},
   "outputs": [],
   "source": []
  }
 ],
 "metadata": {
  "kernelspec": {
   "display_name": "Python 3 (ipykernel)",
   "language": "python",
   "name": "python3"
  },
  "language_info": {
   "codemirror_mode": {
    "name": "ipython",
    "version": 3
   },
   "file_extension": ".py",
   "mimetype": "text/x-python",
   "name": "python",
   "nbconvert_exporter": "python",
   "pygments_lexer": "ipython3",
   "version": "3.9.12"
  }
 },
 "nbformat": 4,
 "nbformat_minor": 5
}
