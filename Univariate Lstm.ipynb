{
 "cells": [
  {
   "cell_type": "code",
   "execution_count": 1,
   "id": "51324951",
   "metadata": {},
   "outputs": [],
   "source": [
    "import pandas as pd"
   ]
  },
  {
   "cell_type": "code",
   "execution_count": 2,
   "id": "4278a99e",
   "metadata": {},
   "outputs": [
    {
     "data": {
      "text/html": [
       "<div>\n",
       "<style scoped>\n",
       "    .dataframe tbody tr th:only-of-type {\n",
       "        vertical-align: middle;\n",
       "    }\n",
       "\n",
       "    .dataframe tbody tr th {\n",
       "        vertical-align: top;\n",
       "    }\n",
       "\n",
       "    .dataframe thead th {\n",
       "        text-align: right;\n",
       "    }\n",
       "</style>\n",
       "<table border=\"1\" class=\"dataframe\">\n",
       "  <thead>\n",
       "    <tr style=\"text-align: right;\">\n",
       "      <th></th>\n",
       "      <th>Open</th>\n",
       "      <th>High</th>\n",
       "      <th>Low</th>\n",
       "      <th>Close</th>\n",
       "      <th>Adj Close</th>\n",
       "      <th>Volume</th>\n",
       "    </tr>\n",
       "    <tr>\n",
       "      <th>Date</th>\n",
       "      <th></th>\n",
       "      <th></th>\n",
       "      <th></th>\n",
       "      <th></th>\n",
       "      <th></th>\n",
       "      <th></th>\n",
       "    </tr>\n",
       "  </thead>\n",
       "  <tbody>\n",
       "    <tr>\n",
       "      <th>2022-03-29</th>\n",
       "      <td>72.615143</td>\n",
       "      <td>74.137390</td>\n",
       "      <td>72.615143</td>\n",
       "      <td>73.887589</td>\n",
       "      <td>73.568665</td>\n",
       "      <td>11009426</td>\n",
       "    </tr>\n",
       "    <tr>\n",
       "      <th>2022-03-30</th>\n",
       "      <td>73.083527</td>\n",
       "      <td>74.270103</td>\n",
       "      <td>72.833725</td>\n",
       "      <td>73.832947</td>\n",
       "      <td>73.514252</td>\n",
       "      <td>7216642</td>\n",
       "    </tr>\n",
       "    <tr>\n",
       "      <th>2022-03-31</th>\n",
       "      <td>73.185013</td>\n",
       "      <td>73.341141</td>\n",
       "      <td>71.405151</td>\n",
       "      <td>71.428574</td>\n",
       "      <td>71.120262</td>\n",
       "      <td>10537122</td>\n",
       "    </tr>\n",
       "    <tr>\n",
       "      <th>2022-04-01</th>\n",
       "      <td>71.896957</td>\n",
       "      <td>72.256050</td>\n",
       "      <td>71.124123</td>\n",
       "      <td>72.201408</td>\n",
       "      <td>71.889755</td>\n",
       "      <td>7226505</td>\n",
       "    </tr>\n",
       "    <tr>\n",
       "      <th>2022-04-04</th>\n",
       "      <td>71.959404</td>\n",
       "      <td>72.068695</td>\n",
       "      <td>70.960190</td>\n",
       "      <td>71.834503</td>\n",
       "      <td>71.524437</td>\n",
       "      <td>6583828</td>\n",
       "    </tr>\n",
       "  </tbody>\n",
       "</table>\n",
       "</div>"
      ],
      "text/plain": [
       "                 Open       High        Low      Close  Adj Close    Volume\n",
       "Date                                                                       \n",
       "2022-03-29  72.615143  74.137390  72.615143  73.887589  73.568665  11009426\n",
       "2022-03-30  73.083527  74.270103  72.833725  73.832947  73.514252   7216642\n",
       "2022-03-31  73.185013  73.341141  71.405151  71.428574  71.120262  10537122\n",
       "2022-04-01  71.896957  72.256050  71.124123  72.201408  71.889755   7226505\n",
       "2022-04-04  71.959404  72.068695  70.960190  71.834503  71.524437   6583828"
      ]
     },
     "execution_count": 2,
     "metadata": {},
     "output_type": "execute_result"
    }
   ],
   "source": [
    "df = pd.read_csv('GE.csv',index_col='Date',parse_dates=True)\n",
    "df.head()"
   ]
  },
  {
   "cell_type": "code",
   "execution_count": 3,
   "id": "610eea8a",
   "metadata": {},
   "outputs": [],
   "source": [
    "cols = list(df)[0:1]"
   ]
  },
  {
   "cell_type": "code",
   "execution_count": 4,
   "id": "a5d43e3e",
   "metadata": {},
   "outputs": [
    {
     "data": {
      "text/plain": [
       "['Open']"
      ]
     },
     "execution_count": 4,
     "metadata": {},
     "output_type": "execute_result"
    }
   ],
   "source": [
    "cols"
   ]
  },
  {
   "cell_type": "code",
   "execution_count": 5,
   "id": "eddf32b7",
   "metadata": {},
   "outputs": [],
   "source": [
    "df1 = df[cols]"
   ]
  },
  {
   "cell_type": "code",
   "execution_count": 6,
   "id": "4ee5ed59",
   "metadata": {},
   "outputs": [
    {
     "data": {
      "text/html": [
       "<div>\n",
       "<style scoped>\n",
       "    .dataframe tbody tr th:only-of-type {\n",
       "        vertical-align: middle;\n",
       "    }\n",
       "\n",
       "    .dataframe tbody tr th {\n",
       "        vertical-align: top;\n",
       "    }\n",
       "\n",
       "    .dataframe thead th {\n",
       "        text-align: right;\n",
       "    }\n",
       "</style>\n",
       "<table border=\"1\" class=\"dataframe\">\n",
       "  <thead>\n",
       "    <tr style=\"text-align: right;\">\n",
       "      <th></th>\n",
       "      <th>Open</th>\n",
       "    </tr>\n",
       "    <tr>\n",
       "      <th>Date</th>\n",
       "      <th></th>\n",
       "    </tr>\n",
       "  </thead>\n",
       "  <tbody>\n",
       "    <tr>\n",
       "      <th>2022-03-29</th>\n",
       "      <td>72.615143</td>\n",
       "    </tr>\n",
       "    <tr>\n",
       "      <th>2022-03-30</th>\n",
       "      <td>73.083527</td>\n",
       "    </tr>\n",
       "    <tr>\n",
       "      <th>2022-03-31</th>\n",
       "      <td>73.185013</td>\n",
       "    </tr>\n",
       "    <tr>\n",
       "      <th>2022-04-01</th>\n",
       "      <td>71.896957</td>\n",
       "    </tr>\n",
       "    <tr>\n",
       "      <th>2022-04-04</th>\n",
       "      <td>71.959404</td>\n",
       "    </tr>\n",
       "  </tbody>\n",
       "</table>\n",
       "</div>"
      ],
      "text/plain": [
       "                 Open\n",
       "Date                 \n",
       "2022-03-29  72.615143\n",
       "2022-03-30  73.083527\n",
       "2022-03-31  73.185013\n",
       "2022-04-01  71.896957\n",
       "2022-04-04  71.959404"
      ]
     },
     "execution_count": 6,
     "metadata": {},
     "output_type": "execute_result"
    }
   ],
   "source": [
    "df1.head()"
   ]
  },
  {
   "cell_type": "code",
   "execution_count": 7,
   "id": "dcf4054d",
   "metadata": {},
   "outputs": [],
   "source": [
    "import numpy as np\n",
    "import matplotlib.pyplot as plt\n",
    "%matplotlib inline"
   ]
  },
  {
   "cell_type": "code",
   "execution_count": 8,
   "id": "1a4fd943",
   "metadata": {},
   "outputs": [
    {
     "data": {
      "text/plain": [
       "<AxesSubplot:xlabel='Date'>"
      ]
     },
     "execution_count": 8,
     "metadata": {},
     "output_type": "execute_result"
    },
    {
     "data": {
      "image/png": "[encoded data removed]",
      "text/plain": [
       "<Figure size 864x432 with 1 Axes>"
      ]
     },
     "metadata": {
      "needs_background": "light"
     },
     "output_type": "display_data"
    }
   ],
   "source": [
    "df1.plot(figsize=(12,6))"
   ]
  },
  {
   "cell_type": "code",
   "execution_count": 9,
   "id": "962092b2",
   "metadata": {},
   "outputs": [
    {
     "data": {
      "text/plain": [
       "251"
      ]
     },
     "execution_count": 9,
     "metadata": {},
     "output_type": "execute_result"
    }
   ],
   "source": [
    "len(df1)"
   ]
  },
  {
   "cell_type": "code",
   "execution_count": 10,
   "id": "feb7789b",
   "metadata": {},
   "outputs": [
    {
     "data": {
      "text/plain": [
       "(251, 1)"
      ]
     },
     "execution_count": 10,
     "metadata": {},
     "output_type": "execute_result"
    }
   ],
   "source": [
    "df1.shape"
   ]
  },
  {
   "cell_type": "code",
   "execution_count": 11,
   "id": "43ecb22e",
   "metadata": {},
   "outputs": [],
   "source": [
    "train = df1.iloc[100:235]\n",
    "test = df1.iloc[235:]"
   ]
  },
  {
   "cell_type": "code",
   "execution_count": 12,
   "id": "8a7f6746",
   "metadata": {},
   "outputs": [],
   "source": [
    "from sklearn.preprocessing import MinMaxScaler\n",
    "scaler = MinMaxScaler()"
   ]
  },
  {
   "cell_type": "code",
   "execution_count": 13,
   "id": "63b4d89b",
   "metadata": {},
   "outputs": [
    {
     "data": {
      "text/plain": [
       "(                 Open\n",
       " Date                 \n",
       " 2022-03-29  72.615143\n",
       " 2022-03-30  73.083527\n",
       " 2022-03-31  73.185013\n",
       " 2022-04-01  71.896957\n",
       " 2022-04-04  71.959404,\n",
       "                  Open\n",
       " Date                 \n",
       " 2023-03-22  92.489998\n",
       " 2023-03-23  90.629997\n",
       " 2023-03-24  90.570000\n",
       " 2023-03-27  92.279999\n",
       " 2023-03-28  93.339996)"
      ]
     },
     "execution_count": 13,
     "metadata": {},
     "output_type": "execute_result"
    }
   ],
   "source": [
    "df1.head(),df1.tail()"
   ]
  },
  {
   "cell_type": "code",
   "execution_count": 14,
   "id": "27720990",
   "metadata": {},
   "outputs": [],
   "source": [
    "scaler.fit(train)\n",
    "scaled_train = scaler.transform(train)\n",
    "scaled_test = scaler.transform(test)"
   ]
  },
  {
   "cell_type": "code",
   "execution_count": 15,
   "id": "2aee1e76",
   "metadata": {},
   "outputs": [
    {
     "data": {
      "text/plain": [
       "array([[0.27903132],\n",
       "       [0.25545118],\n",
       "       [0.27944501],\n",
       "       [0.30467978],\n",
       "       [0.32577777],\n",
       "       [0.25234853],\n",
       "       [0.29206239],\n",
       "       [0.26413861],\n",
       "       [0.21946049],\n",
       "       [0.23063004]])"
      ]
     },
     "execution_count": 15,
     "metadata": {},
     "output_type": "execute_result"
    }
   ],
   "source": [
    "scaled_train[:10]"
   ]
  },
  {
   "cell_type": "code",
   "execution_count": 16,
   "id": "3c795d7d",
   "metadata": {},
   "outputs": [],
   "source": [
    "\n",
    "from keras.preprocessing.sequence import TimeseriesGenerator"
   ]
  },
  {
   "cell_type": "code",
   "execution_count": 17,
   "id": "d7969e37",
   "metadata": {},
   "outputs": [],
   "source": [
    "# define generator\n",
    "n_input = 3\n",
    "n_features = 1\n",
    "generator = TimeseriesGenerator(scaled_train, scaled_train, length=n_input, batch_size=1)\n",
    "     "
   ]
  },
  {
   "cell_type": "code",
   "execution_count": 18,
   "id": "670e62c2",
   "metadata": {},
   "outputs": [
    {
     "name": "stdout",
     "output_type": "stream",
     "text": [
      "Given the Array: \n",
      "[0.27903132 0.25545118 0.27944501]\n",
      "Predict this y: \n",
      " [[0.30467978]]\n"
     ]
    }
   ],
   "source": [
    "X,y = generator[0]\n",
    "print(f'Given the Array: \\n{X.flatten()}')\n",
    "print(f'Predict this y: \\n {y}')"
   ]
  },
  {
   "cell_type": "code",
   "execution_count": 19,
   "id": "c435d6a0",
   "metadata": {},
   "outputs": [],
   "source": [
    "# We do the same thing, but now instead for 12 days\n",
    "n_input = 12\n",
    "generator = TimeseriesGenerator(scaled_train, scaled_train, length=n_input, batch_size=1)"
   ]
  },
  {
   "cell_type": "code",
   "execution_count": 20,
   "id": "2420b443",
   "metadata": {},
   "outputs": [],
   "source": [
    "\n",
    "from keras.models import Sequential\n",
    "from keras.layers import Dense\n",
    "from keras.layers import LSTM\n",
    "     "
   ]
  },
  {
   "cell_type": "code",
   "execution_count": 21,
   "id": "cc8a52cb",
   "metadata": {},
   "outputs": [],
   "source": [
    "model = Sequential()\n",
    "model.add(LSTM(100, activation='relu', input_shape=(n_input, n_features)))\n",
    "model.add(Dense(1))\n",
    "model.compile(optimizer='adam', loss='mse')"
   ]
  },
  {
   "cell_type": "code",
   "execution_count": 22,
   "id": "cc0cc1f4",
   "metadata": {},
   "outputs": [
    {
     "name": "stdout",
     "output_type": "stream",
     "text": [
      "Model: \"sequential\"\n",
      "_________________________________________________________________\n",
      " Layer (type)                Output Shape              Param #   \n",
      "=================================================================\n",
      " lstm (LSTM)                 (None, 100)               40800     \n",
      "                                                                 \n",
      " dense (Dense)               (None, 1)                 101       \n",
      "                                                                 \n",
      "=================================================================\n",
      "Total params: 40,901\n",
      "Trainable params: 40,901\n",
      "Non-trainable params: 0\n",
      "_________________________________________________________________\n"
     ]
    }
   ],
   "source": [
    "\n",
    "model.summary()"
   ]
  },
  {
   "cell_type": "code",
   "execution_count": 23,
   "id": "aa760241",
   "metadata": {},
   "outputs": [
    {
     "name": "stdout",
     "output_type": "stream",
     "text": [
      "Epoch 1/20\n",
      "123/123 [==============================] - 3s 5ms/step - loss: 0.0338\n",
      "Epoch 2/20\n",
      "123/123 [==============================] - 1s 5ms/step - loss: 0.0070\n",
      "Epoch 3/20\n",
      "123/123 [==============================] - 1s 5ms/step - loss: 0.0068\n",
      "Epoch 4/20\n",
      "123/123 [==============================] - 1s 5ms/step - loss: 0.0068\n",
      "Epoch 5/20\n",
      "123/123 [==============================] - 1s 5ms/step - loss: 0.0044\n",
      "Epoch 6/20\n",
      "123/123 [==============================] - 1s 5ms/step - loss: 0.0038\n",
      "Epoch 7/20\n",
      "123/123 [==============================] - 1s 4ms/step - loss: 0.0039\n",
      "Epoch 8/20\n",
      "123/123 [==============================] - 1s 5ms/step - loss: 0.0035\n",
      "Epoch 9/20\n",
      "123/123 [==============================] - 1s 5ms/step - loss: 0.0033\n",
      "Epoch 10/20\n",
      "123/123 [==============================] - 1s 5ms/step - loss: 0.0029\n",
      "Epoch 11/20\n",
      "123/123 [==============================] - 1s 5ms/step - loss: 0.0032\n",
      "Epoch 12/20\n",
      "123/123 [==============================] - 1s 5ms/step - loss: 0.0028\n",
      "Epoch 13/20\n",
      "123/123 [==============================] - 1s 5ms/step - loss: 0.0026\n",
      "Epoch 14/20\n",
      "123/123 [==============================] - 1s 5ms/step - loss: 0.0030\n",
      "Epoch 15/20\n",
      "123/123 [==============================] - 1s 5ms/step - loss: 0.0026\n",
      "Epoch 16/20\n",
      "123/123 [==============================] - 1s 4ms/step - loss: 0.0026\n",
      "Epoch 17/20\n",
      "123/123 [==============================] - 1s 5ms/step - loss: 0.0026\n",
      "Epoch 18/20\n",
      "123/123 [==============================] - 1s 4ms/step - loss: 0.0026\n",
      "Epoch 19/20\n",
      "123/123 [==============================] - 1s 5ms/step - loss: 0.0022\n",
      "Epoch 20/20\n",
      "123/123 [==============================] - 1s 4ms/step - loss: 0.0031\n"
     ]
    },
    {
     "data": {
      "text/plain": [
       "<keras.callbacks.History at 0x2b3ad6b8430>"
      ]
     },
     "execution_count": 23,
     "metadata": {},
     "output_type": "execute_result"
    }
   ],
   "source": [
    "# fit model\n",
    "model.fit(generator,epochs=20)"
   ]
  },
  {
   "cell_type": "code",
   "execution_count": 24,
   "id": "44905baf",
   "metadata": {},
   "outputs": [
    {
     "data": {
      "text/plain": [
       "[<matplotlib.lines.Line2D at 0x2b3aff80940>]"
      ]
     },
     "execution_count": 24,
     "metadata": {},
     "output_type": "execute_result"
    },
    {
     "data": {
      "image/png": "[encoded data removed]",
      "text/plain": [
       "<Figure size 432x288 with 1 Axes>"
      ]
     },
     "metadata": {
      "needs_background": "light"
     },
     "output_type": "display_data"
    }
   ],
   "source": [
    "loss_per_epoch = model.history.history['loss']\n",
    "plt.plot(range(len(loss_per_epoch)),loss_per_epoch)"
   ]
  },
  {
   "cell_type": "code",
   "execution_count": 25,
   "id": "2f69e7b8",
   "metadata": {},
   "outputs": [],
   "source": [
    "last_train_batch = scaled_train[-n_input:]"
   ]
  },
  {
   "cell_type": "code",
   "execution_count": 26,
   "id": "44f91218",
   "metadata": {},
   "outputs": [],
   "source": [
    "last_train_batch = last_train_batch.reshape((1, n_input, n_features))"
   ]
  },
  {
   "cell_type": "code",
   "execution_count": 27,
   "id": "ea63819a",
   "metadata": {},
   "outputs": [
    {
     "name": "stdout",
     "output_type": "stream",
     "text": [
      "1/1 [==============================] - 0s 230ms/step\n"
     ]
    },
    {
     "data": {
      "text/plain": [
       "array([[0.9389096]], dtype=float32)"
      ]
     },
     "execution_count": 27,
     "metadata": {},
     "output_type": "execute_result"
    }
   ],
   "source": [
    "model.predict(last_train_batch)\n",
    "     "
   ]
  },
  {
   "cell_type": "code",
   "execution_count": 28,
   "id": "c2d23202",
   "metadata": {},
   "outputs": [
    {
     "data": {
      "text/plain": [
       "array([1.00847891])"
      ]
     },
     "execution_count": 28,
     "metadata": {},
     "output_type": "execute_result"
    }
   ],
   "source": [
    "scaled_test[0]"
   ]
  },
  {
   "cell_type": "code",
   "execution_count": 29,
   "id": "acfb601c",
   "metadata": {},
   "outputs": [
    {
     "name": "stdout",
     "output_type": "stream",
     "text": [
      "1/1 [==============================] - 0s 27ms/step\n",
      "1/1 [==============================] - 0s 26ms/step\n",
      "1/1 [==============================] - 0s 36ms/step\n",
      "1/1 [==============================] - 0s 30ms/step\n",
      "1/1 [==============================] - 0s 12ms/step\n",
      "1/1 [==============================] - 0s 34ms/step\n",
      "1/1 [==============================] - 0s 20ms/step\n",
      "1/1 [==============================] - 0s 33ms/step\n",
      "1/1 [==============================] - 0s 32ms/step\n",
      "1/1 [==============================] - 0s 19ms/step\n",
      "1/1 [==============================] - 0s 16ms/step\n",
      "1/1 [==============================] - 0s 24ms/step\n",
      "1/1 [==============================] - 0s 17ms/step\n",
      "1/1 [==============================] - 0s 25ms/step\n",
      "1/1 [==============================] - 0s 30ms/step\n",
      "1/1 [==============================] - 0s 33ms/step\n"
     ]
    }
   ],
   "source": [
    "\n",
    "test_predictions = []\n",
    "\n",
    "first_eval_batch = scaled_train[-n_input:]\n",
    "current_batch = first_eval_batch.reshape((1, n_input, n_features))\n",
    "\n",
    "for i in range(len(test)):\n",
    "    \n",
    "    # get the prediction value for the first batch\n",
    "    current_pred = model.predict(current_batch)[0]\n",
    "    \n",
    "    # append the prediction into the array\n",
    "    test_predictions.append(current_pred) \n",
    "    \n",
    "    # use the prediction to update the batch and remove the first value\n",
    "    current_batch = np.append(current_batch[:,1:,:],[[current_pred]],axis=1)\n"
   ]
  },
  {
   "cell_type": "code",
   "execution_count": 30,
   "id": "00f0c987",
   "metadata": {},
   "outputs": [
    {
     "data": {
      "text/plain": [
       "[array([0.9389096], dtype=float32),\n",
       " array([0.93550825], dtype=float32),\n",
       " array([0.93190575], dtype=float32),\n",
       " array([0.92737764], dtype=float32),\n",
       " array([0.9231267], dtype=float32),\n",
       " array([0.9194202], dtype=float32),\n",
       " array([0.9158222], dtype=float32),\n",
       " array([0.91240793], dtype=float32),\n",
       " array([0.9091551], dtype=float32),\n",
       " array([0.90602505], dtype=float32),\n",
       " array([0.90316457], dtype=float32),\n",
       " array([0.90053076], dtype=float32),\n",
       " array([0.898079], dtype=float32),\n",
       " array([0.89581203], dtype=float32),\n",
       " array([0.8937045], dtype=float32),\n",
       " array([0.8917461], dtype=float32)]"
      ]
     },
     "execution_count": 30,
     "metadata": {},
     "output_type": "execute_result"
    }
   ],
   "source": [
    "test_predictions"
   ]
  },
  {
   "cell_type": "code",
   "execution_count": 31,
   "id": "fa56740a",
   "metadata": {},
   "outputs": [],
   "source": [
    "true_predictions = scaler.inverse_transform(test_predictions)"
   ]
  },
  {
   "cell_type": "code",
   "execution_count": 32,
   "id": "b6c73135",
   "metadata": {},
   "outputs": [
    {
     "name": "stderr",
     "output_type": "stream",
     "text": [
      "C:\\Users\\Ankit Rawat\\AppData\\Local\\Temp\\ipykernel_4600\\4269337381.py:1: SettingWithCopyWarning: \n",
      "A value is trying to be set on a copy of a slice from a DataFrame.\n",
      "Try using .loc[row_indexer,col_indexer] = value instead\n",
      "\n",
      "See the caveats in the documentation: https://pandas.pydata.org/pandas-docs/stable/user_guide/indexing.html#returning-a-view-versus-a-copy\n",
      "  test['Predictions'] = true_predictions\n"
     ]
    }
   ],
   "source": [
    "test['Predictions'] = true_predictions"
   ]
  },
  {
   "cell_type": "code",
   "execution_count": 33,
   "id": "0812e311",
   "metadata": {},
   "outputs": [
    {
     "data": {
      "text/html": [
       "<div>\n",
       "<style scoped>\n",
       "    .dataframe tbody tr th:only-of-type {\n",
       "        vertical-align: middle;\n",
       "    }\n",
       "\n",
       "    .dataframe tbody tr th {\n",
       "        vertical-align: top;\n",
       "    }\n",
       "\n",
       "    .dataframe thead th {\n",
       "        text-align: right;\n",
       "    }\n",
       "</style>\n",
       "<table border=\"1\" class=\"dataframe\">\n",
       "  <thead>\n",
       "    <tr style=\"text-align: right;\">\n",
       "      <th></th>\n",
       "      <th>Open</th>\n",
       "      <th>Predictions</th>\n",
       "    </tr>\n",
       "    <tr>\n",
       "      <th>Date</th>\n",
       "      <th></th>\n",
       "      <th></th>\n",
       "    </tr>\n",
       "  </thead>\n",
       "  <tbody>\n",
       "    <tr>\n",
       "      <th>2023-03-07</th>\n",
       "      <td>86.959999</td>\n",
       "      <td>84.334404</td>\n",
       "    </tr>\n",
       "    <tr>\n",
       "      <th>2023-03-08</th>\n",
       "      <td>86.769997</td>\n",
       "      <td>84.206035</td>\n",
       "    </tr>\n",
       "    <tr>\n",
       "      <th>2023-03-09</th>\n",
       "      <td>89.959999</td>\n",
       "      <td>84.070074</td>\n",
       "    </tr>\n",
       "    <tr>\n",
       "      <th>2023-03-10</th>\n",
       "      <td>91.900002</td>\n",
       "      <td>83.899180</td>\n",
       "    </tr>\n",
       "    <tr>\n",
       "      <th>2023-03-13</th>\n",
       "      <td>89.699997</td>\n",
       "      <td>83.738747</td>\n",
       "    </tr>\n",
       "    <tr>\n",
       "      <th>2023-03-14</th>\n",
       "      <td>91.169998</td>\n",
       "      <td>83.598860</td>\n",
       "    </tr>\n",
       "    <tr>\n",
       "      <th>2023-03-15</th>\n",
       "      <td>88.989998</td>\n",
       "      <td>83.463070</td>\n",
       "    </tr>\n",
       "    <tr>\n",
       "      <th>2023-03-16</th>\n",
       "      <td>89.400002</td>\n",
       "      <td>83.334213</td>\n",
       "    </tr>\n",
       "    <tr>\n",
       "      <th>2023-03-17</th>\n",
       "      <td>91.790001</td>\n",
       "      <td>83.211448</td>\n",
       "    </tr>\n",
       "    <tr>\n",
       "      <th>2023-03-20</th>\n",
       "      <td>90.629997</td>\n",
       "      <td>83.093318</td>\n",
       "    </tr>\n",
       "    <tr>\n",
       "      <th>2023-03-21</th>\n",
       "      <td>90.980003</td>\n",
       "      <td>82.985362</td>\n",
       "    </tr>\n",
       "    <tr>\n",
       "      <th>2023-03-22</th>\n",
       "      <td>92.489998</td>\n",
       "      <td>82.885960</td>\n",
       "    </tr>\n",
       "    <tr>\n",
       "      <th>2023-03-23</th>\n",
       "      <td>90.629997</td>\n",
       "      <td>82.793428</td>\n",
       "    </tr>\n",
       "    <tr>\n",
       "      <th>2023-03-24</th>\n",
       "      <td>90.570000</td>\n",
       "      <td>82.707872</td>\n",
       "    </tr>\n",
       "    <tr>\n",
       "      <th>2023-03-27</th>\n",
       "      <td>92.279999</td>\n",
       "      <td>82.628331</td>\n",
       "    </tr>\n",
       "  </tbody>\n",
       "</table>\n",
       "</div>"
      ],
      "text/plain": [
       "                 Open  Predictions\n",
       "Date                              \n",
       "2023-03-07  86.959999    84.334404\n",
       "2023-03-08  86.769997    84.206035\n",
       "2023-03-09  89.959999    84.070074\n",
       "2023-03-10  91.900002    83.899180\n",
       "2023-03-13  89.699997    83.738747\n",
       "2023-03-14  91.169998    83.598860\n",
       "2023-03-15  88.989998    83.463070\n",
       "2023-03-16  89.400002    83.334213\n",
       "2023-03-17  91.790001    83.211448\n",
       "2023-03-20  90.629997    83.093318\n",
       "2023-03-21  90.980003    82.985362\n",
       "2023-03-22  92.489998    82.885960\n",
       "2023-03-23  90.629997    82.793428\n",
       "2023-03-24  90.570000    82.707872\n",
       "2023-03-27  92.279999    82.628331"
      ]
     },
     "execution_count": 33,
     "metadata": {},
     "output_type": "execute_result"
    }
   ],
   "source": [
    "test.head(15)"
   ]
  },
  {
   "cell_type": "code",
   "execution_count": 36,
   "id": "d5de0c6f",
   "metadata": {},
   "outputs": [
    {
     "data": {
      "text/plain": [
       "<AxesSubplot:xlabel='Date'>"
      ]
     },
     "execution_count": 36,
     "metadata": {},
     "output_type": "execute_result"
    },
    {
     "data": {
      "image/png": "[encoded data removed]",
      "text/plain": [
       "<Figure size 864x432 with 1 Axes>"
      ]
     },
     "metadata": {
      "needs_background": "light"
     },
     "output_type": "display_data"
    }
   ],
   "source": [
    "test.plot(figsize=(12,6))\n"
   ]
  },
  {
   "cell_type": "code",
   "execution_count": 35,
   "id": "4fd024b1",
   "metadata": {},
   "outputs": [
    {
     "name": "stdout",
     "output_type": "stream",
     "text": [
      "7.4650206223516005\n"
     ]
    }
   ],
   "source": [
    "from sklearn.metrics import mean_squared_error\n",
    "from math import sqrt\n",
    "rmse=sqrt(mean_squared_error(test['Open'],test['Predictions']))\n",
    "print(rmse)\n",
    "     "
   ]
  },
  {
   "cell_type": "code",
   "execution_count": null,
   "id": "981eebb5",
   "metadata": {},
   "outputs": [],
   "source": []
  }
 ],
 "metadata": {
  "kernelspec": {
   "display_name": "Python 3 (ipykernel)",
   "language": "python",
   "name": "python3"
  },
  "language_info": {
   "codemirror_mode": {
    "name": "ipython",
    "version": 3
   },
   "file_extension": ".py",
   "mimetype": "text/x-python",
   "name": "python",
   "nbconvert_exporter": "python",
   "pygments_lexer": "ipython3",
   "version": "3.9.12"
  }
 },
 "nbformat": 4,
 "nbformat_minor": 5
}
