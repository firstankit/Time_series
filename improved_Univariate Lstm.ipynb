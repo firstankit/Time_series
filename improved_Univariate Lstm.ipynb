{
 "cells": [
  {
   "cell_type": "code",
   "execution_count": 1,
   "id": "51324951",
   "metadata": {},
   "outputs": [],
   "source": [
    "import pandas as pd"
   ]
  },
  {
   "cell_type": "code",
   "execution_count": 2,
   "id": "4278a99e",
   "metadata": {},
   "outputs": [
    {
     "data": {
      "text/html": [
       "<div>\n",
       "<style scoped>\n",
       "    .dataframe tbody tr th:only-of-type {\n",
       "        vertical-align: middle;\n",
       "    }\n",
       "\n",
       "    .dataframe tbody tr th {\n",
       "        vertical-align: top;\n",
       "    }\n",
       "\n",
       "    .dataframe thead th {\n",
       "        text-align: right;\n",
       "    }\n",
       "</style>\n",
       "<table border=\"1\" class=\"dataframe\">\n",
       "  <thead>\n",
       "    <tr style=\"text-align: right;\">\n",
       "      <th></th>\n",
       "      <th>Open</th>\n",
       "      <th>High</th>\n",
       "      <th>Low</th>\n",
       "      <th>Close</th>\n",
       "      <th>Adj Close</th>\n",
       "      <th>Volume</th>\n",
       "    </tr>\n",
       "    <tr>\n",
       "      <th>Date</th>\n",
       "      <th></th>\n",
       "      <th></th>\n",
       "      <th></th>\n",
       "      <th></th>\n",
       "      <th></th>\n",
       "      <th></th>\n",
       "    </tr>\n",
       "  </thead>\n",
       "  <tbody>\n",
       "    <tr>\n",
       "      <th>2022-03-29</th>\n",
       "      <td>72.615143</td>\n",
       "      <td>74.137390</td>\n",
       "      <td>72.615143</td>\n",
       "      <td>73.887589</td>\n",
       "      <td>73.568665</td>\n",
       "      <td>11009426</td>\n",
       "    </tr>\n",
       "    <tr>\n",
       "      <th>2022-03-30</th>\n",
       "      <td>73.083527</td>\n",
       "      <td>74.270103</td>\n",
       "      <td>72.833725</td>\n",
       "      <td>73.832947</td>\n",
       "      <td>73.514252</td>\n",
       "      <td>7216642</td>\n",
       "    </tr>\n",
       "    <tr>\n",
       "      <th>2022-03-31</th>\n",
       "      <td>73.185013</td>\n",
       "      <td>73.341141</td>\n",
       "      <td>71.405151</td>\n",
       "      <td>71.428574</td>\n",
       "      <td>71.120262</td>\n",
       "      <td>10537122</td>\n",
       "    </tr>\n",
       "    <tr>\n",
       "      <th>2022-04-01</th>\n",
       "      <td>71.896957</td>\n",
       "      <td>72.256050</td>\n",
       "      <td>71.124123</td>\n",
       "      <td>72.201408</td>\n",
       "      <td>71.889755</td>\n",
       "      <td>7226505</td>\n",
       "    </tr>\n",
       "    <tr>\n",
       "      <th>2022-04-04</th>\n",
       "      <td>71.959404</td>\n",
       "      <td>72.068695</td>\n",
       "      <td>70.960190</td>\n",
       "      <td>71.834503</td>\n",
       "      <td>71.524437</td>\n",
       "      <td>6583828</td>\n",
       "    </tr>\n",
       "  </tbody>\n",
       "</table>\n",
       "</div>"
      ],
      "text/plain": [
       "                 Open       High        Low      Close  Adj Close    Volume\n",
       "Date                                                                       \n",
       "2022-03-29  72.615143  74.137390  72.615143  73.887589  73.568665  11009426\n",
       "2022-03-30  73.083527  74.270103  72.833725  73.832947  73.514252   7216642\n",
       "2022-03-31  73.185013  73.341141  71.405151  71.428574  71.120262  10537122\n",
       "2022-04-01  71.896957  72.256050  71.124123  72.201408  71.889755   7226505\n",
       "2022-04-04  71.959404  72.068695  70.960190  71.834503  71.524437   6583828"
      ]
     },
     "execution_count": 2,
     "metadata": {},
     "output_type": "execute_result"
    }
   ],
   "source": [
    "df = pd.read_csv('GE.csv',index_col='Date',parse_dates=True)\n",
    "df.head()"
   ]
  },
  {
   "cell_type": "code",
   "execution_count": 3,
   "id": "610eea8a",
   "metadata": {},
   "outputs": [],
   "source": [
    "cols = list(df)[0:1]"
   ]
  },
  {
   "cell_type": "code",
   "execution_count": 4,
   "id": "a5d43e3e",
   "metadata": {},
   "outputs": [
    {
     "data": {
      "text/plain": [
       "['Open']"
      ]
     },
     "execution_count": 4,
     "metadata": {},
     "output_type": "execute_result"
    }
   ],
   "source": [
    "cols"
   ]
  },
  {
   "cell_type": "code",
   "execution_count": 5,
   "id": "eddf32b7",
   "metadata": {},
   "outputs": [],
   "source": [
    "df1 = df[cols]"
   ]
  },
  {
   "cell_type": "code",
   "execution_count": 6,
   "id": "4ee5ed59",
   "metadata": {},
   "outputs": [
    {
     "data": {
      "text/html": [
       "<div>\n",
       "<style scoped>\n",
       "    .dataframe tbody tr th:only-of-type {\n",
       "        vertical-align: middle;\n",
       "    }\n",
       "\n",
       "    .dataframe tbody tr th {\n",
       "        vertical-align: top;\n",
       "    }\n",
       "\n",
       "    .dataframe thead th {\n",
       "        text-align: right;\n",
       "    }\n",
       "</style>\n",
       "<table border=\"1\" class=\"dataframe\">\n",
       "  <thead>\n",
       "    <tr style=\"text-align: right;\">\n",
       "      <th></th>\n",
       "      <th>Open</th>\n",
       "    </tr>\n",
       "    <tr>\n",
       "      <th>Date</th>\n",
       "      <th></th>\n",
       "    </tr>\n",
       "  </thead>\n",
       "  <tbody>\n",
       "    <tr>\n",
       "      <th>2022-03-29</th>\n",
       "      <td>72.615143</td>\n",
       "    </tr>\n",
       "    <tr>\n",
       "      <th>2022-03-30</th>\n",
       "      <td>73.083527</td>\n",
       "    </tr>\n",
       "    <tr>\n",
       "      <th>2022-03-31</th>\n",
       "      <td>73.185013</td>\n",
       "    </tr>\n",
       "    <tr>\n",
       "      <th>2022-04-01</th>\n",
       "      <td>71.896957</td>\n",
       "    </tr>\n",
       "    <tr>\n",
       "      <th>2022-04-04</th>\n",
       "      <td>71.959404</td>\n",
       "    </tr>\n",
       "  </tbody>\n",
       "</table>\n",
       "</div>"
      ],
      "text/plain": [
       "                 Open\n",
       "Date                 \n",
       "2022-03-29  72.615143\n",
       "2022-03-30  73.083527\n",
       "2022-03-31  73.185013\n",
       "2022-04-01  71.896957\n",
       "2022-04-04  71.959404"
      ]
     },
     "execution_count": 6,
     "metadata": {},
     "output_type": "execute_result"
    }
   ],
   "source": [
    "df1.head()"
   ]
  },
  {
   "cell_type": "code",
   "execution_count": 7,
   "id": "dcf4054d",
   "metadata": {},
   "outputs": [],
   "source": [
    "import numpy as np\n",
    "import matplotlib.pyplot as plt\n",
    "%matplotlib inline"
   ]
  },
  {
   "cell_type": "code",
   "execution_count": 8,
   "id": "1a4fd943",
   "metadata": {},
   "outputs": [
    {
     "data": {
      "text/plain": [
       "<AxesSubplot:xlabel='Date'>"
      ]
     },
     "execution_count": 8,
     "metadata": {},
     "output_type": "execute_result"
    },
    {
     "data": {
      "image/png": "[encoded data removed]",
      "text/plain": [
       "<Figure size 864x432 with 1 Axes>"
      ]
     },
     "metadata": {
      "needs_background": "light"
     },
     "output_type": "display_data"
    }
   ],
   "source": [
    "df1.plot(figsize=(12,6))"
   ]
  },
  {
   "cell_type": "code",
   "execution_count": 9,
   "id": "962092b2",
   "metadata": {},
   "outputs": [
    {
     "data": {
      "text/plain": [
       "251"
      ]
     },
     "execution_count": 9,
     "metadata": {},
     "output_type": "execute_result"
    }
   ],
   "source": [
    "len(df1)"
   ]
  },
  {
   "cell_type": "code",
   "execution_count": 10,
   "id": "feb7789b",
   "metadata": {},
   "outputs": [
    {
     "data": {
      "text/plain": [
       "(251, 1)"
      ]
     },
     "execution_count": 10,
     "metadata": {},
     "output_type": "execute_result"
    }
   ],
   "source": [
    "df1.shape"
   ]
  },
  {
   "cell_type": "code",
   "execution_count": 11,
   "id": "43ecb22e",
   "metadata": {},
   "outputs": [],
   "source": [
    "train = df1.iloc[:210]\n",
    "test = df1.iloc[210:]"
   ]
  },
  {
   "cell_type": "code",
   "execution_count": 12,
   "id": "8a7f6746",
   "metadata": {},
   "outputs": [],
   "source": [
    "from sklearn.preprocessing import MinMaxScaler\n",
    "scaler = MinMaxScaler()"
   ]
  },
  {
   "cell_type": "code",
   "execution_count": 13,
   "id": "63b4d89b",
   "metadata": {},
   "outputs": [
    {
     "data": {
      "text/plain": [
       "(                 Open\n",
       " Date                 \n",
       " 2022-03-29  72.615143\n",
       " 2022-03-30  73.083527\n",
       " 2022-03-31  73.185013\n",
       " 2022-04-01  71.896957\n",
       " 2022-04-04  71.959404,\n",
       "                  Open\n",
       " Date                 \n",
       " 2023-03-22  92.489998\n",
       " 2023-03-23  90.629997\n",
       " 2023-03-24  90.570000\n",
       " 2023-03-27  92.279999\n",
       " 2023-03-28  93.339996)"
      ]
     },
     "execution_count": 13,
     "metadata": {},
     "output_type": "execute_result"
    }
   ],
   "source": [
    "df1.head(),df1.tail()"
   ]
  },
  {
   "cell_type": "code",
   "execution_count": 14,
   "id": "27720990",
   "metadata": {},
   "outputs": [],
   "source": [
    "scaler.fit(train)\n",
    "scaled_train = scaler.transform(train)\n",
    "scaled_test = scaler.transform(test)"
   ]
  },
  {
   "cell_type": "code",
   "execution_count": 15,
   "id": "2aee1e76",
   "metadata": {},
   "outputs": [
    {
     "data": {
      "text/plain": [
       "array([[0.73819816],\n",
       "       [0.75203073],\n",
       "       [0.75502787],\n",
       "       [0.7169883 ],\n",
       "       [0.71883252],\n",
       "       [0.70684438],\n",
       "       [0.65405006],\n",
       "       [0.66442449],\n",
       "       [0.65681649],\n",
       "       [0.65796921]])"
      ]
     },
     "execution_count": 15,
     "metadata": {},
     "output_type": "execute_result"
    }
   ],
   "source": [
    "scaled_train[:10]"
   ]
  },
  {
   "cell_type": "code",
   "execution_count": 16,
   "id": "3c795d7d",
   "metadata": {},
   "outputs": [],
   "source": [
    "\n",
    "from keras.preprocessing.sequence import TimeseriesGenerator"
   ]
  },
  {
   "cell_type": "code",
   "execution_count": 17,
   "id": "d7969e37",
   "metadata": {},
   "outputs": [],
   "source": [
    "# define generator\n",
    "n_input = 3\n",
    "n_features = 1\n",
    "generator = TimeseriesGenerator(scaled_train, scaled_train, length=n_input, batch_size=1)\n",
    "     "
   ]
  },
  {
   "cell_type": "code",
   "execution_count": 18,
   "id": "670e62c2",
   "metadata": {},
   "outputs": [
    {
     "name": "stdout",
     "output_type": "stream",
     "text": [
      "Given the Array: \n",
      "[0.73819816 0.75203073 0.75502787]\n",
      "Predict this y: \n",
      " [[0.7169883]]\n"
     ]
    }
   ],
   "source": [
    "X,y = generator[0]\n",
    "print(f'Given the Array: \\n{X.flatten()}')\n",
    "print(f'Predict this y: \\n {y}')"
   ]
  },
  {
   "cell_type": "code",
   "execution_count": 19,
   "id": "c435d6a0",
   "metadata": {},
   "outputs": [],
   "source": [
    "# We do the same thing, but now instead for 12 days\n",
    "n_input = 12\n",
    "generator = TimeseriesGenerator(scaled_train, scaled_train, length=n_input, batch_size=1)"
   ]
  },
  {
   "cell_type": "code",
   "execution_count": 20,
   "id": "2420b443",
   "metadata": {},
   "outputs": [],
   "source": [
    "\n",
    "from keras.models import Sequential\n",
    "from keras.layers import Dense\n",
    "from keras.layers import LSTM\n",
    "     "
   ]
  },
  {
   "cell_type": "code",
   "execution_count": 21,
   "id": "cc8a52cb",
   "metadata": {},
   "outputs": [],
   "source": [
    "model=Sequential()\n",
    "model.add(LSTM(50,return_sequences=True,input_shape=(n_input, n_features)))\n",
    "model.add(LSTM(50,return_sequences=True))\n",
    "model.add(LSTM(50))\n",
    "model.add(Dense(1))\n",
    "model.compile(loss='mean_squared_error',optimizer='adam')\n"
   ]
  },
  {
   "cell_type": "code",
   "execution_count": 22,
   "id": "cc0cc1f4",
   "metadata": {},
   "outputs": [
    {
     "name": "stdout",
     "output_type": "stream",
     "text": [
      "Model: \"sequential\"\n",
      "_________________________________________________________________\n",
      " Layer (type)                Output Shape              Param #   \n",
      "=================================================================\n",
      " lstm (LSTM)                 (None, 12, 50)            10400     \n",
      "                                                                 \n",
      " lstm_1 (LSTM)               (None, 12, 50)            20200     \n",
      "                                                                 \n",
      " lstm_2 (LSTM)               (None, 50)                20200     \n",
      "                                                                 \n",
      " dense (Dense)               (None, 1)                 51        \n",
      "                                                                 \n",
      "=================================================================\n",
      "Total params: 50,851\n",
      "Trainable params: 50,851\n",
      "Non-trainable params: 0\n",
      "_________________________________________________________________\n"
     ]
    }
   ],
   "source": [
    "\n",
    "model.summary()"
   ]
  },
  {
   "cell_type": "code",
   "execution_count": 23,
   "id": "aa760241",
   "metadata": {},
   "outputs": [
    {
     "name": "stdout",
     "output_type": "stream",
     "text": [
      "Epoch 1/30\n",
      "198/198 [==============================] - 14s 26ms/step - loss: 0.0245\n",
      "Epoch 2/30\n",
      "198/198 [==============================] - 3s 14ms/step - loss: 0.0162\n",
      "Epoch 3/30\n",
      "198/198 [==============================] - 4s 20ms/step - loss: 0.0130\n",
      "Epoch 4/30\n",
      "198/198 [==============================] - 6s 30ms/step - loss: 0.0080\n",
      "Epoch 5/30\n",
      "198/198 [==============================] - 6s 28ms/step - loss: 0.0063\n",
      "Epoch 6/30\n",
      "198/198 [==============================] - 6s 28ms/step - loss: 0.0051\n",
      "Epoch 7/30\n",
      "198/198 [==============================] - 3s 14ms/step - loss: 0.0046\n",
      "Epoch 8/30\n",
      "198/198 [==============================] - 2s 12ms/step - loss: 0.0036\n",
      "Epoch 9/30\n",
      "198/198 [==============================] - 3s 14ms/step - loss: 0.0033\n",
      "Epoch 10/30\n",
      "198/198 [==============================] - 6s 29ms/step - loss: 0.0043\n",
      "Epoch 11/30\n",
      "198/198 [==============================] - 6s 29ms/step - loss: 0.0028\n",
      "Epoch 12/30\n",
      "198/198 [==============================] - 6s 28ms/step - loss: 0.0025\n",
      "Epoch 13/30\n",
      "198/198 [==============================] - 5s 28ms/step - loss: 0.0023\n",
      "Epoch 14/30\n",
      "198/198 [==============================] - 6s 28ms/step - loss: 0.0026\n",
      "Epoch 15/30\n",
      "198/198 [==============================] - 6s 28ms/step - loss: 0.0027\n",
      "Epoch 16/30\n",
      "198/198 [==============================] - 3s 15ms/step - loss: 0.0022\n",
      "Epoch 17/30\n",
      "198/198 [==============================] - 3s 13ms/step - loss: 0.0021\n",
      "Epoch 18/30\n",
      "198/198 [==============================] - 4s 22ms/step - loss: 0.0022\n",
      "Epoch 19/30\n",
      "198/198 [==============================] - 6s 28ms/step - loss: 0.0022\n",
      "Epoch 20/30\n",
      "198/198 [==============================] - 6s 28ms/step - loss: 0.0020\n",
      "Epoch 21/30\n",
      "198/198 [==============================] - 6s 28ms/step - loss: 0.0023\n",
      "Epoch 22/30\n",
      "198/198 [==============================] - 6s 28ms/step - loss: 0.0020\n",
      "Epoch 23/30\n",
      "198/198 [==============================] - 5s 28ms/step - loss: 0.0023\n",
      "Epoch 24/30\n",
      "198/198 [==============================] - 5s 25ms/step - loss: 0.0020\n",
      "Epoch 25/30\n",
      "198/198 [==============================] - 2s 12ms/step - loss: 0.0026\n",
      "Epoch 26/30\n",
      "198/198 [==============================] - 2s 12ms/step - loss: 0.0020\n",
      "Epoch 27/30\n",
      "198/198 [==============================] - 2s 13ms/step - loss: 0.0019\n",
      "Epoch 28/30\n",
      "198/198 [==============================] - 4s 20ms/step - loss: 0.0020\n",
      "Epoch 29/30\n",
      "198/198 [==============================] - 6s 28ms/step - loss: 0.0020\n",
      "Epoch 30/30\n",
      "198/198 [==============================] - 6s 28ms/step - loss: 0.0023\n"
     ]
    },
    {
     "data": {
      "text/plain": [
       "<keras.callbacks.History at 0x195c6fa8b20>"
      ]
     },
     "execution_count": 23,
     "metadata": {},
     "output_type": "execute_result"
    }
   ],
   "source": [
    "# fit model\n",
    "model.fit(generator,epochs=30)"
   ]
  },
  {
   "cell_type": "code",
   "execution_count": 24,
   "id": "44905baf",
   "metadata": {},
   "outputs": [
    {
     "data": {
      "text/plain": [
       "[<matplotlib.lines.Line2D at 0x195cf495850>]"
      ]
     },
     "execution_count": 24,
     "metadata": {},
     "output_type": "execute_result"
    },
    {
     "data": {
      "image/png": "[encoded data removed]",
      "text/plain": [
       "<Figure size 432x288 with 1 Axes>"
      ]
     },
     "metadata": {
      "needs_background": "light"
     },
     "output_type": "display_data"
    }
   ],
   "source": [
    "loss_per_epoch = model.history.history['loss']\n",
    "plt.plot(range(len(loss_per_epoch)),loss_per_epoch)"
   ]
  },
  {
   "cell_type": "code",
   "execution_count": 25,
   "id": "2f69e7b8",
   "metadata": {},
   "outputs": [],
   "source": [
    "last_train_batch = scaled_train[-n_input:]"
   ]
  },
  {
   "cell_type": "code",
   "execution_count": 26,
   "id": "44f91218",
   "metadata": {},
   "outputs": [],
   "source": [
    "last_train_batch = last_train_batch.reshape((1, n_input, n_features))"
   ]
  },
  {
   "cell_type": "code",
   "execution_count": 27,
   "id": "ea63819a",
   "metadata": {},
   "outputs": [
    {
     "name": "stdout",
     "output_type": "stream",
     "text": [
      "1/1 [==============================] - 2s 2s/step\n"
     ]
    },
    {
     "data": {
      "text/plain": [
       "array([[0.9241248]], dtype=float32)"
      ]
     },
     "execution_count": 27,
     "metadata": {},
     "output_type": "execute_result"
    }
   ],
   "source": [
    "model.predict(last_train_batch)\n",
    "     "
   ]
  },
  {
   "cell_type": "code",
   "execution_count": 28,
   "id": "c2d23202",
   "metadata": {},
   "outputs": [
    {
     "data": {
      "text/plain": [
       "array([1.02746529])"
      ]
     },
     "execution_count": 28,
     "metadata": {},
     "output_type": "execute_result"
    }
   ],
   "source": [
    "scaled_test[0]"
   ]
  },
  {
   "cell_type": "code",
   "execution_count": 29,
   "id": "acfb601c",
   "metadata": {},
   "outputs": [
    {
     "name": "stdout",
     "output_type": "stream",
     "text": [
      "1/1 [==============================] - 0s 19ms/step\n",
      "1/1 [==============================] - 0s 14ms/step\n",
      "1/1 [==============================] - 0s 19ms/step\n",
      "1/1 [==============================] - 0s 24ms/step\n",
      "1/1 [==============================] - 0s 12ms/step\n",
      "1/1 [==============================] - 0s 36ms/step\n",
      "1/1 [==============================] - 0s 16ms/step\n",
      "1/1 [==============================] - 0s 21ms/step\n",
      "1/1 [==============================] - 0s 13ms/step\n",
      "1/1 [==============================] - 0s 23ms/step\n",
      "1/1 [==============================] - 0s 11ms/step\n",
      "1/1 [==============================] - 0s 11ms/step\n",
      "1/1 [==============================] - 0s 19ms/step\n",
      "1/1 [==============================] - 0s 33ms/step\n",
      "1/1 [==============================] - 0s 20ms/step\n",
      "1/1 [==============================] - 0s 16ms/step\n",
      "1/1 [==============================] - 0s 22ms/step\n",
      "1/1 [==============================] - 0s 19ms/step\n",
      "1/1 [==============================] - 0s 26ms/step\n",
      "1/1 [==============================] - 0s 33ms/step\n",
      "1/1 [==============================] - 0s 33ms/step\n",
      "1/1 [==============================] - 0s 33ms/step\n",
      "1/1 [==============================] - 0s 21ms/step\n",
      "1/1 [==============================] - 0s 23ms/step\n",
      "1/1 [==============================] - 0s 25ms/step\n",
      "1/1 [==============================] - 0s 9ms/step\n",
      "1/1 [==============================] - 0s 16ms/step\n",
      "1/1 [==============================] - 0s 17ms/step\n",
      "1/1 [==============================] - 0s 33ms/step\n",
      "1/1 [==============================] - 0s 31ms/step\n",
      "1/1 [==============================] - 0s 32ms/step\n",
      "1/1 [==============================] - 0s 34ms/step\n",
      "1/1 [==============================] - 0s 25ms/step\n",
      "1/1 [==============================] - 0s 24ms/step\n",
      "1/1 [==============================] - 0s 23ms/step\n",
      "1/1 [==============================] - 0s 19ms/step\n",
      "1/1 [==============================] - 0s 23ms/step\n",
      "1/1 [==============================] - 0s 23ms/step\n",
      "1/1 [==============================] - 0s 23ms/step\n",
      "1/1 [==============================] - 0s 16ms/step\n",
      "1/1 [==============================] - 0s 31ms/step\n"
     ]
    }
   ],
   "source": [
    "\n",
    "test_predictions = []\n",
    "\n",
    "first_eval_batch = scaled_train[-n_input:]\n",
    "current_batch = first_eval_batch.reshape((1, n_input, n_features))\n",
    "\n",
    "for i in range(len(test)):\n",
    "    \n",
    "    # get the prediction value for the first batch\n",
    "    current_pred = model.predict(current_batch)[0]\n",
    "    \n",
    "    # append the prediction into the array\n",
    "    test_predictions.append(current_pred) \n",
    "    \n",
    "    # use the prediction to update the batch and remove the first value\n",
    "    current_batch = np.append(current_batch[:,1:,:],[[current_pred]],axis=1)\n"
   ]
  },
  {
   "cell_type": "code",
   "execution_count": 30,
   "id": "00f0c987",
   "metadata": {},
   "outputs": [
    {
     "data": {
      "text/plain": [
       "[array([0.9241248], dtype=float32),\n",
       " array([0.8550059], dtype=float32),\n",
       " array([0.79446197], dtype=float32),\n",
       " array([0.74459195], dtype=float32),\n",
       " array([0.70277786], dtype=float32),\n",
       " array([0.6661549], dtype=float32),\n",
       " array([0.6329399], dtype=float32),\n",
       " array([0.60252446], dtype=float32),\n",
       " array([0.57490134], dtype=float32),\n",
       " array([0.55022615], dtype=float32),\n",
       " array([0.52863544], dtype=float32),\n",
       " array([0.5101032], dtype=float32),\n",
       " array([0.49438235], dtype=float32),\n",
       " array([0.48111102], dtype=float32),\n",
       " array([0.46993837], dtype=float32),\n",
       " array([0.46057656], dtype=float32),\n",
       " array([0.4527982], dtype=float32),\n",
       " array([0.44641486], dtype=float32),\n",
       " array([0.4412574], dtype=float32),\n",
       " array([0.43716675], dtype=float32),\n",
       " array([0.43399236], dtype=float32),\n",
       " array([0.4315945], dtype=float32),\n",
       " array([0.4298467], dtype=float32),\n",
       " array([0.4286373], dtype=float32),\n",
       " array([0.42786932], dtype=float32),\n",
       " array([0.42745933], dtype=float32),\n",
       " array([0.4273353], dtype=float32),\n",
       " array([0.4274352], dtype=float32),\n",
       " array([0.42770603], dtype=float32),\n",
       " array([0.42810267], dtype=float32),\n",
       " array([0.4285872], dtype=float32),\n",
       " array([0.42912832], dtype=float32),\n",
       " array([0.4297006], dtype=float32),\n",
       " array([0.43028355], dtype=float32),\n",
       " array([0.4308613], dtype=float32),\n",
       " array([0.43142158], dtype=float32),\n",
       " array([0.43195537], dtype=float32),\n",
       " array([0.43245643], dtype=float32),\n",
       " array([0.43292037], dtype=float32),\n",
       " array([0.4333448], dtype=float32),\n",
       " array([0.43372893], dtype=float32)]"
      ]
     },
     "execution_count": 30,
     "metadata": {},
     "output_type": "execute_result"
    }
   ],
   "source": [
    "test_predictions"
   ]
  },
  {
   "cell_type": "code",
   "execution_count": 31,
   "id": "fa56740a",
   "metadata": {},
   "outputs": [],
   "source": [
    "true_predictions = scaler.inverse_transform(test_predictions)"
   ]
  },
  {
   "cell_type": "code",
   "execution_count": 32,
   "id": "b6c73135",
   "metadata": {},
   "outputs": [
    {
     "name": "stderr",
     "output_type": "stream",
     "text": [
      "C:\\Users\\Ankit Rawat\\AppData\\Local\\Temp\\ipykernel_10340\\4269337381.py:1: SettingWithCopyWarning: \n",
      "A value is trying to be set on a copy of a slice from a DataFrame.\n",
      "Try using .loc[row_indexer,col_indexer] = value instead\n",
      "\n",
      "See the caveats in the documentation: https://pandas.pydata.org/pandas-docs/stable/user_guide/indexing.html#returning-a-view-versus-a-copy\n",
      "  test['Predictions'] = true_predictions\n"
     ]
    }
   ],
   "source": [
    "test['Predictions'] = true_predictions"
   ]
  },
  {
   "cell_type": "code",
   "execution_count": 33,
   "id": "0812e311",
   "metadata": {},
   "outputs": [
    {
     "data": {
      "text/html": [
       "<div>\n",
       "<style scoped>\n",
       "    .dataframe tbody tr th:only-of-type {\n",
       "        vertical-align: middle;\n",
       "    }\n",
       "\n",
       "    .dataframe tbody tr th {\n",
       "        vertical-align: top;\n",
       "    }\n",
       "\n",
       "    .dataframe thead th {\n",
       "        text-align: right;\n",
       "    }\n",
       "</style>\n",
       "<table border=\"1\" class=\"dataframe\">\n",
       "  <thead>\n",
       "    <tr style=\"text-align: right;\">\n",
       "      <th></th>\n",
       "      <th>Open</th>\n",
       "      <th>Predictions</th>\n",
       "    </tr>\n",
       "    <tr>\n",
       "      <th>Date</th>\n",
       "      <th></th>\n",
       "      <th></th>\n",
       "    </tr>\n",
       "  </thead>\n",
       "  <tbody>\n",
       "    <tr>\n",
       "      <th>2023-03-08</th>\n",
       "      <td>86.769997</td>\n",
       "      <td>62.089030</td>\n",
       "    </tr>\n",
       "    <tr>\n",
       "      <th>2023-03-09</th>\n",
       "      <td>89.959999</td>\n",
       "      <td>62.092412</td>\n",
       "    </tr>\n",
       "    <tr>\n",
       "      <th>2023-03-10</th>\n",
       "      <td>91.900002</td>\n",
       "      <td>62.101583</td>\n",
       "    </tr>\n",
       "    <tr>\n",
       "      <th>2023-03-13</th>\n",
       "      <td>89.699997</td>\n",
       "      <td>62.115014</td>\n",
       "    </tr>\n",
       "    <tr>\n",
       "      <th>2023-03-14</th>\n",
       "      <td>91.169998</td>\n",
       "      <td>62.131420</td>\n",
       "    </tr>\n",
       "    <tr>\n",
       "      <th>2023-03-15</th>\n",
       "      <td>88.989998</td>\n",
       "      <td>62.149743</td>\n",
       "    </tr>\n",
       "    <tr>\n",
       "      <th>2023-03-16</th>\n",
       "      <td>89.400002</td>\n",
       "      <td>62.169122</td>\n",
       "    </tr>\n",
       "    <tr>\n",
       "      <th>2023-03-17</th>\n",
       "      <td>91.790001</td>\n",
       "      <td>62.188860</td>\n",
       "    </tr>\n",
       "    <tr>\n",
       "      <th>2023-03-20</th>\n",
       "      <td>90.629997</td>\n",
       "      <td>62.208423</td>\n",
       "    </tr>\n",
       "    <tr>\n",
       "      <th>2023-03-21</th>\n",
       "      <td>90.980003</td>\n",
       "      <td>62.227395</td>\n",
       "    </tr>\n",
       "    <tr>\n",
       "      <th>2023-03-22</th>\n",
       "      <td>92.489998</td>\n",
       "      <td>62.245470</td>\n",
       "    </tr>\n",
       "    <tr>\n",
       "      <th>2023-03-23</th>\n",
       "      <td>90.629997</td>\n",
       "      <td>62.262436</td>\n",
       "    </tr>\n",
       "    <tr>\n",
       "      <th>2023-03-24</th>\n",
       "      <td>90.570000</td>\n",
       "      <td>62.278146</td>\n",
       "    </tr>\n",
       "    <tr>\n",
       "      <th>2023-03-27</th>\n",
       "      <td>92.279999</td>\n",
       "      <td>62.292518</td>\n",
       "    </tr>\n",
       "    <tr>\n",
       "      <th>2023-03-28</th>\n",
       "      <td>93.339996</td>\n",
       "      <td>62.305524</td>\n",
       "    </tr>\n",
       "  </tbody>\n",
       "</table>\n",
       "</div>"
      ],
      "text/plain": [
       "                 Open  Predictions\n",
       "Date                              \n",
       "2023-03-08  86.769997    62.089030\n",
       "2023-03-09  89.959999    62.092412\n",
       "2023-03-10  91.900002    62.101583\n",
       "2023-03-13  89.699997    62.115014\n",
       "2023-03-14  91.169998    62.131420\n",
       "2023-03-15  88.989998    62.149743\n",
       "2023-03-16  89.400002    62.169122\n",
       "2023-03-17  91.790001    62.188860\n",
       "2023-03-20  90.629997    62.208423\n",
       "2023-03-21  90.980003    62.227395\n",
       "2023-03-22  92.489998    62.245470\n",
       "2023-03-23  90.629997    62.262436\n",
       "2023-03-24  90.570000    62.278146\n",
       "2023-03-27  92.279999    62.292518\n",
       "2023-03-28  93.339996    62.305524"
      ]
     },
     "execution_count": 33,
     "metadata": {},
     "output_type": "execute_result"
    }
   ],
   "source": [
    "test.tail(15)"
   ]
  },
  {
   "cell_type": "code",
   "execution_count": 34,
   "id": "d5de0c6f",
   "metadata": {},
   "outputs": [
    {
     "data": {
      "text/plain": [
       "[<matplotlib.lines.Line2D at 0x195d0c4bd90>]"
      ]
     },
     "execution_count": 34,
     "metadata": {},
     "output_type": "execute_result"
    },
    {
     "data": {
      "image/png": "[encoded data removed]",
      "text/plain": [
       "<Figure size 432x288 with 1 Axes>"
      ]
     },
     "metadata": {
      "needs_background": "light"
     },
     "output_type": "display_data"
    }
   ],
   "source": [
    "plt.plot(df1)\n",
    "plt.plot(test.Predictions)"
   ]
  },
  {
   "cell_type": "code",
   "execution_count": 35,
   "id": "4fd024b1",
   "metadata": {},
   "outputs": [
    {
     "name": "stdout",
     "output_type": "stream",
     "text": [
      "22.25845044981282\n"
     ]
    }
   ],
   "source": [
    "from sklearn.metrics import mean_squared_error\n",
    "from math import sqrt\n",
    "rmse=sqrt(mean_squared_error(test['Open'],test['Predictions']))\n",
    "print(rmse)\n",
    "     "
   ]
  },
  {
   "cell_type": "code",
   "execution_count": 36,
   "id": "93e9b66b",
   "metadata": {},
   "outputs": [
    {
     "data": {
      "text/plain": [
       "251"
      ]
     },
     "execution_count": 36,
     "metadata": {},
     "output_type": "execute_result"
    }
   ],
   "source": [
    "len(df1)"
   ]
  },
  {
   "cell_type": "code",
   "execution_count": 37,
   "id": "046c2fc5",
   "metadata": {},
   "outputs": [
    {
     "data": {
      "text/plain": [
       "(12, 1)"
      ]
     },
     "execution_count": 37,
     "metadata": {},
     "output_type": "execute_result"
    }
   ],
   "source": [
    "future_input = df1[239:]\n",
    "future_input.shape"
   ]
  },
  {
   "cell_type": "code",
   "execution_count": 38,
   "id": "e6107e3e",
   "metadata": {},
   "outputs": [],
   "source": [
    "scaled_future = scaler.transform(future_input)"
   ]
  },
  {
   "cell_type": "code",
   "execution_count": 39,
   "id": "c9e0424b",
   "metadata": {},
   "outputs": [],
   "source": [
    "x_input= scaled_future.reshape((1, n_input))"
   ]
  },
  {
   "cell_type": "code",
   "execution_count": 40,
   "id": "6a22b269",
   "metadata": {},
   "outputs": [
    {
     "data": {
      "text/plain": [
       "(1, 12)"
      ]
     },
     "execution_count": 40,
     "metadata": {},
     "output_type": "execute_result"
    }
   ],
   "source": [
    "x_input.shape"
   ]
  },
  {
   "cell_type": "code",
   "execution_count": 41,
   "id": "c9a5ee07",
   "metadata": {},
   "outputs": [],
   "source": [
    "temp_input=list(x_input)\n",
    "temp_input=temp_input[0].tolist()"
   ]
  },
  {
   "cell_type": "code",
   "execution_count": 42,
   "id": "29869221",
   "metadata": {},
   "outputs": [
    {
     "name": "stdout",
     "output_type": "stream",
     "text": [
      "[1.2481034]\n",
      "13\n",
      "1 day input [1.28617017 1.22178923 1.23389769 1.30448043 1.27022257 1.28055914\n",
      " 1.32515312 1.27022257 1.26845071 1.31895132 1.35025573 1.24810338]\n",
      "1 day output [[1.1031806]]\n",
      "2 day input [1.22178923 1.23389769 1.30448043 1.27022257 1.28055914 1.32515312\n",
      " 1.27022257 1.26845071 1.31895132 1.35025573 1.24810338 1.10318065]\n",
      "2 day output [[0.9763371]]\n",
      "3 day input [1.23389769 1.30448043 1.27022257 1.28055914 1.32515312 1.27022257\n",
      " 1.26845071 1.31895132 1.35025573 1.24810338 1.10318065 0.97633708]\n",
      "3 day output [[0.88064176]]\n",
      "4 day input [1.30448043 1.27022257 1.28055914 1.32515312 1.27022257 1.26845071\n",
      " 1.31895132 1.35025573 1.24810338 1.10318065 0.97633708 0.88064176]\n",
      "4 day output [[0.8093258]]\n",
      "5 day input [1.27022257 1.28055914 1.32515312 1.27022257 1.26845071 1.31895132\n",
      " 1.35025573 1.24810338 1.10318065 0.97633708 0.88064176 0.80932581]\n",
      "5 day output [[0.75228375]]\n",
      "6 day input [1.28055914 1.32515312 1.27022257 1.26845071 1.31895132 1.35025573\n",
      " 1.24810338 1.10318065 0.97633708 0.88064176 0.80932581 0.75228375]\n",
      "6 day output [[0.70293695]]\n",
      "7 day input [1.32515312 1.27022257 1.26845071 1.31895132 1.35025573 1.24810338\n",
      " 1.10318065 0.97633708 0.88064176 0.80932581 0.75228375 0.70293695]\n",
      "7 day output [[0.6586596]]\n",
      "8 day input [1.27022257 1.26845071 1.31895132 1.35025573 1.24810338 1.10318065\n",
      " 0.97633708 0.88064176 0.80932581 0.75228375 0.70293695 0.65865958]\n",
      "8 day output [[0.61896616]]\n",
      "9 day input [1.26845071 1.31895132 1.35025573 1.24810338 1.10318065 0.97633708\n",
      " 0.88064176 0.80932581 0.75228375 0.70293695 0.65865958 0.61896616]\n",
      "9 day output [[0.5839488]]\n",
      "10 day input [1.31895132 1.35025573 1.24810338 1.10318065 0.97633708 0.88064176\n",
      " 0.80932581 0.75228375 0.70293695 0.65865958 0.61896616 0.58394879]\n",
      "10 day output [[0.5536884]]\n",
      "11 day input [1.35025573 1.24810338 1.10318065 0.97633708 0.88064176 0.80932581\n",
      " 0.75228375 0.70293695 0.65865958 0.61896616 0.58394879 0.55368841]\n",
      "11 day output [[0.52808326]]\n",
      "12 day input [1.24810338 1.10318065 0.97633708 0.88064176 0.80932581 0.75228375\n",
      " 0.70293695 0.65865958 0.61896616 0.58394879 0.55368841 0.52808326]\n",
      "12 day output [[0.5067587]]\n",
      "13 day input [1.10318065 0.97633708 0.88064176 0.80932581 0.75228375 0.70293695\n",
      " 0.65865958 0.61896616 0.58394879 0.55368841 0.52808326 0.50675869]\n",
      "13 day output [[0.48911414]]\n",
      "14 day input [0.97633708 0.88064176 0.80932581 0.75228375 0.70293695 0.65865958\n",
      " 0.61896616 0.58394879 0.55368841 0.52808326 0.50675869 0.48911414]\n",
      "14 day output [[0.47453132]]\n",
      "15 day input [0.88064176 0.80932581 0.75228375 0.70293695 0.65865958 0.61896616\n",
      " 0.58394879 0.55368841 0.52808326 0.50675869 0.48911414 0.47453132]\n",
      "15 day output [[0.4624983]]\n",
      "16 day input [0.80932581 0.75228375 0.70293695 0.65865958 0.61896616 0.58394879\n",
      " 0.55368841 0.52808326 0.50675869 0.48911414 0.47453132 0.46249831]\n",
      "16 day output [[0.45263156]]\n",
      "17 day input [0.75228375 0.70293695 0.65865958 0.61896616 0.58394879 0.55368841\n",
      " 0.52808326 0.50675869 0.48911414 0.47453132 0.46249831 0.45263156]\n",
      "17 day output [[0.44464123]]\n",
      "18 day input [0.70293695 0.65865958 0.61896616 0.58394879 0.55368841 0.52808326\n",
      " 0.50675869 0.48911414 0.47453132 0.46249831 0.45263156 0.44464123]\n",
      "18 day output [[0.43828633]]\n",
      "19 day input [0.65865958 0.61896616 0.58394879 0.55368841 0.52808326 0.50675869\n",
      " 0.48911414 0.47453132 0.46249831 0.45263156 0.44464123 0.43828633]\n",
      "19 day output [[0.43334633]]\n",
      "20 day input [0.61896616 0.58394879 0.55368841 0.52808326 0.50675869 0.48911414\n",
      " 0.47453132 0.46249831 0.45263156 0.44464123 0.43828633 0.43334633]\n",
      "20 day output [[0.4296127]]\n",
      "21 day input [0.58394879 0.55368841 0.52808326 0.50675869 0.48911414 0.47453132\n",
      " 0.46249831 0.45263156 0.44464123 0.43828633 0.43334633 0.4296127 ]\n",
      "21 day output [[0.4268911]]\n",
      "22 day input [0.55368841 0.52808326 0.50675869 0.48911414 0.47453132 0.46249831\n",
      " 0.45263156 0.44464123 0.43828633 0.43334633 0.4296127  0.42689109]\n",
      "22 day output [[0.425006]]\n",
      "23 day input [0.52808326 0.50675869 0.48911414 0.47453132 0.46249831 0.45263156\n",
      " 0.44464123 0.43828633 0.43334633 0.4296127  0.42689109 0.425006  ]\n",
      "23 day output [[0.42380363]]\n",
      "24 day input [0.50675869 0.48911414 0.47453132 0.46249831 0.45263156 0.44464123\n",
      " 0.43828633 0.43334633 0.4296127  0.42689109 0.425006   0.42380363]\n",
      "24 day output [[0.423152]]\n",
      "25 day input [0.48911414 0.47453132 0.46249831 0.45263156 0.44464123 0.43828633\n",
      " 0.43334633 0.4296127  0.42689109 0.425006   0.42380363 0.423152  ]\n",
      "25 day output [[0.42293936]]\n",
      "26 day input [0.47453132 0.46249831 0.45263156 0.44464123 0.43828633 0.43334633\n",
      " 0.4296127  0.42689109 0.425006   0.42380363 0.423152   0.42293936]\n",
      "26 day output [[0.42307085]]\n",
      "27 day input [0.46249831 0.45263156 0.44464123 0.43828633 0.43334633 0.4296127\n",
      " 0.42689109 0.425006   0.42380363 0.423152   0.42293936 0.42307085]\n",
      "27 day output [[0.42346594]]\n",
      "28 day input [0.45263156 0.44464123 0.43828633 0.43334633 0.4296127  0.42689109\n",
      " 0.425006   0.42380363 0.423152   0.42293936 0.42307085 0.42346594]\n",
      "28 day output [[0.42405623]]\n",
      "29 day input [0.44464123 0.43828633 0.43334633 0.4296127  0.42689109 0.425006\n",
      " 0.42380363 0.423152   0.42293936 0.42307085 0.42346594 0.42405623]\n",
      "29 day output [[0.42478397]]\n",
      "[[1.248103380203247], [1.1031806468963623], [0.9763370752334595], [0.880641758441925], [0.8093258142471313], [0.7522837519645691], [0.7029369473457336], [0.6586595773696899], [0.6189661622047424], [0.5839487910270691], [0.5536884069442749], [0.5280832648277283], [0.5067586898803711], [0.4891141355037689], [0.4745313227176666], [0.4624983072280884], [0.45263156294822693], [0.44464123249053955], [0.43828633427619934], [0.43334633111953735], [0.4296126961708069], [0.4268910884857178], [0.4250060021877289], [0.4238036274909973], [0.42315199971199036], [0.42293936014175415], [0.42307084798812866], [0.42346593737602234], [0.4240562319755554], [0.42478397488594055]]\n"
     ]
    }
   ],
   "source": [
    "# demonstrate prediction for next 30 days\n",
    "from numpy import array\n",
    "\n",
    "lst_output=[]\n",
    "n_steps=12\n",
    "i=0\n",
    "while(i<30):\n",
    "    \n",
    "    if(len(temp_input)>12):\n",
    "        #print(temp_input)\n",
    "        x_input=np.array(temp_input[1:])\n",
    "        print(\"{} day input {}\".format(i,x_input))\n",
    "        x_input=x_input.reshape(1,-1)\n",
    "        x_input = x_input.reshape((1, n_steps, 1))\n",
    "        #print(x_input)\n",
    "        yhat = model.predict(x_input, verbose=0)\n",
    "        print(\"{} day output {}\".format(i,yhat))\n",
    "        temp_input.extend(yhat[0].tolist())\n",
    "        temp_input=temp_input[1:]\n",
    "        #print(temp_input)\n",
    "        lst_output.extend(yhat.tolist())\n",
    "        i=i+1\n",
    "    else:\n",
    "        x_input = x_input.reshape((1, n_steps,1))\n",
    "        yhat = model.predict(x_input, verbose=0)\n",
    "        print(yhat[0])\n",
    "        temp_input.extend(yhat[0].tolist())\n",
    "        print(len(temp_input))\n",
    "        lst_output.extend(yhat.tolist())\n",
    "        i=i+1\n",
    "    \n",
    "\n",
    "print(lst_output)"
   ]
  },
  {
   "cell_type": "code",
   "execution_count": 43,
   "id": "6f91a3d3",
   "metadata": {},
   "outputs": [
    {
     "data": {
      "text/plain": [
       "array([[89.88102014],\n",
       "       [84.97379814],\n",
       "       [80.67875379],\n",
       "       [77.43841907],\n",
       "       [75.02359317],\n",
       "       [73.09209452],\n",
       "       [71.42116464],\n",
       "       [69.92189065],\n",
       "       [68.57783375],\n",
       "       [67.39211215],\n",
       "       [66.36746668],\n",
       "       [65.50045214],\n",
       "       [64.77838169],\n",
       "       [64.18092024],\n",
       "       [63.68713229],\n",
       "       [63.27968291],\n",
       "       [62.94558553],\n",
       "       [62.67502532],\n",
       "       [62.4598424 ],\n",
       "       [62.29256918],\n",
       "       [62.16614474],\n",
       "       [62.07398851],\n",
       "       [62.01015769],\n",
       "       [61.96944414],\n",
       "       [61.9473794 ],\n",
       "       [61.94017922],\n",
       "       [61.94463152],\n",
       "       [61.95800963],\n",
       "       [61.97799756],\n",
       "       [62.00263963]])"
      ]
     },
     "execution_count": 43,
     "metadata": {},
     "output_type": "execute_result"
    }
   ],
   "source": [
    "output = scaler.inverse_transform(lst_output)\n",
    "output"
   ]
  },
  {
   "cell_type": "code",
   "execution_count": 44,
   "id": "2da96b0a",
   "metadata": {},
   "outputs": [
    {
     "data": {
      "text/html": [
       "<div>\n",
       "<style scoped>\n",
       "    .dataframe tbody tr th:only-of-type {\n",
       "        vertical-align: middle;\n",
       "    }\n",
       "\n",
       "    .dataframe tbody tr th {\n",
       "        vertical-align: top;\n",
       "    }\n",
       "\n",
       "    .dataframe thead th {\n",
       "        text-align: right;\n",
       "    }\n",
       "</style>\n",
       "<table border=\"1\" class=\"dataframe\">\n",
       "  <thead>\n",
       "    <tr style=\"text-align: right;\">\n",
       "      <th></th>\n",
       "      <th>Date</th>\n",
       "      <th>Open</th>\n",
       "      <th>High</th>\n",
       "      <th>Low</th>\n",
       "      <th>Close</th>\n",
       "      <th>Adj Close</th>\n",
       "      <th>Volume</th>\n",
       "    </tr>\n",
       "  </thead>\n",
       "  <tbody>\n",
       "    <tr>\n",
       "      <th>0</th>\n",
       "      <td>2022-03-29</td>\n",
       "      <td>72.615143</td>\n",
       "      <td>74.137390</td>\n",
       "      <td>72.615143</td>\n",
       "      <td>73.887589</td>\n",
       "      <td>73.568665</td>\n",
       "      <td>11009426</td>\n",
       "    </tr>\n",
       "    <tr>\n",
       "      <th>1</th>\n",
       "      <td>2022-03-30</td>\n",
       "      <td>73.083527</td>\n",
       "      <td>74.270103</td>\n",
       "      <td>72.833725</td>\n",
       "      <td>73.832947</td>\n",
       "      <td>73.514252</td>\n",
       "      <td>7216642</td>\n",
       "    </tr>\n",
       "    <tr>\n",
       "      <th>2</th>\n",
       "      <td>2022-03-31</td>\n",
       "      <td>73.185013</td>\n",
       "      <td>73.341141</td>\n",
       "      <td>71.405151</td>\n",
       "      <td>71.428574</td>\n",
       "      <td>71.120262</td>\n",
       "      <td>10537122</td>\n",
       "    </tr>\n",
       "    <tr>\n",
       "      <th>3</th>\n",
       "      <td>2022-04-01</td>\n",
       "      <td>71.896957</td>\n",
       "      <td>72.256050</td>\n",
       "      <td>71.124123</td>\n",
       "      <td>72.201408</td>\n",
       "      <td>71.889755</td>\n",
       "      <td>7226505</td>\n",
       "    </tr>\n",
       "    <tr>\n",
       "      <th>4</th>\n",
       "      <td>2022-04-04</td>\n",
       "      <td>71.959404</td>\n",
       "      <td>72.068695</td>\n",
       "      <td>70.960190</td>\n",
       "      <td>71.834503</td>\n",
       "      <td>71.524437</td>\n",
       "      <td>6583828</td>\n",
       "    </tr>\n",
       "  </tbody>\n",
       "</table>\n",
       "</div>"
      ],
      "text/plain": [
       "         Date       Open       High        Low      Close  Adj Close    Volume\n",
       "0  2022-03-29  72.615143  74.137390  72.615143  73.887589  73.568665  11009426\n",
       "1  2022-03-30  73.083527  74.270103  72.833725  73.832947  73.514252   7216642\n",
       "2  2022-03-31  73.185013  73.341141  71.405151  71.428574  71.120262  10537122\n",
       "3  2022-04-01  71.896957  72.256050  71.124123  72.201408  71.889755   7226505\n",
       "4  2022-04-04  71.959404  72.068695  70.960190  71.834503  71.524437   6583828"
      ]
     },
     "execution_count": 44,
     "metadata": {},
     "output_type": "execute_result"
    }
   ],
   "source": [
    "df5 = pd.read_csv('GE.csv')\n",
    "df5.head()"
   ]
  },
  {
   "cell_type": "code",
   "execution_count": 45,
   "id": "d53fe50c",
   "metadata": {},
   "outputs": [],
   "source": [
    "df5 = df5.Open"
   ]
  },
  {
   "cell_type": "code",
   "execution_count": 46,
   "id": "b2714c0c",
   "metadata": {},
   "outputs": [
    {
     "data": {
      "text/plain": [
       "0    72.615143\n",
       "1    73.083527\n",
       "2    73.185013\n",
       "3    71.896957\n",
       "4    71.959404\n",
       "Name: Open, dtype: float64"
      ]
     },
     "execution_count": 46,
     "metadata": {},
     "output_type": "execute_result"
    }
   ],
   "source": [
    "df5.head()"
   ]
  },
  {
   "cell_type": "code",
   "execution_count": 47,
   "id": "2cc17116",
   "metadata": {},
   "outputs": [
    {
     "data": {
      "text/plain": [
       "(251,)"
      ]
     },
     "execution_count": 47,
     "metadata": {},
     "output_type": "execute_result"
    }
   ],
   "source": [
    "df5.shape"
   ]
  },
  {
   "cell_type": "code",
   "execution_count": 48,
   "id": "db788e3d",
   "metadata": {},
   "outputs": [],
   "source": [
    "arr_1d = output.flatten()\n"
   ]
  },
  {
   "cell_type": "code",
   "execution_count": 49,
   "id": "1593d2f1",
   "metadata": {},
   "outputs": [],
   "source": [
    "s = pd.Series(arr_1d)"
   ]
  },
  {
   "cell_type": "code",
   "execution_count": 50,
   "id": "7bc4f051",
   "metadata": {},
   "outputs": [
    {
     "data": {
      "text/plain": [
       "0    89.881020\n",
       "1    84.973798\n",
       "2    80.678754\n",
       "3    77.438419\n",
       "4    75.023593\n",
       "dtype: float64"
      ]
     },
     "execution_count": 50,
     "metadata": {},
     "output_type": "execute_result"
    }
   ],
   "source": [
    "s.head()"
   ]
  },
  {
   "cell_type": "code",
   "execution_count": 51,
   "id": "d53965dc",
   "metadata": {},
   "outputs": [
    {
     "data": {
      "text/plain": [
       "252    89.881020\n",
       "253    84.973798\n",
       "254    80.678754\n",
       "255    77.438419\n",
       "256    75.023593\n",
       "dtype: float64"
      ]
     },
     "execution_count": 51,
     "metadata": {},
     "output_type": "execute_result"
    }
   ],
   "source": [
    "s.set_axis(pd.Index(range(252, 252+len(s))), inplace=True)\n",
    "s.head()"
   ]
  },
  {
   "cell_type": "code",
   "execution_count": 52,
   "id": "c228612f",
   "metadata": {},
   "outputs": [
    {
     "data": {
      "text/plain": [
       "[<matplotlib.lines.Line2D at 0x195d0ab4130>]"
      ]
     },
     "execution_count": 52,
     "metadata": {},
     "output_type": "execute_result"
    },
    {
     "data": {
      "image/png": "[encoded data removed]",
      "text/plain": [
       "<Figure size 432x288 with 1 Axes>"
      ]
     },
     "metadata": {
      "needs_background": "light"
     },
     "output_type": "display_data"
    }
   ],
   "source": [
    "\n",
    "plt.plot(df5)\n",
    "plt.plot(s)"
   ]
  },
  {
   "cell_type": "code",
   "execution_count": null,
   "id": "63da0b23",
   "metadata": {},
   "outputs": [],
   "source": []
  }
 ],
 "metadata": {
  "kernelspec": {
   "display_name": "Python 3 (ipykernel)",
   "language": "python",
   "name": "python3"
  },
  "language_info": {
   "codemirror_mode": {
    "name": "ipython",
    "version": 3
   },
   "file_extension": ".py",
   "mimetype": "text/x-python",
   "name": "python",
   "nbconvert_exporter": "python",
   "pygments_lexer": "ipython3",
   "version": "3.9.12"
  }
 },
 "nbformat": 4,
 "nbformat_minor": 5
}
